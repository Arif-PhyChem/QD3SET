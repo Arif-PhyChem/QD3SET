{
  "cells": [
    {
      "cell_type": "markdown",
      "id": "4de581f7",
      "metadata": {
        "id": "4de581f7"
      },
      "source": [
        "[![Open In Colab](https://colab.research.google.com/assets/colab-badge.svg)](\n",
        "https://colab.research.google.com/github/Arif-PhyChem/QD3SET/blob/main/example.ipynb)"
      ]
    },
    {
      "cell_type": "markdown",
      "source": [
        "# Import QD3SET extraction package from GitHub repo"
      ],
      "metadata": {
        "id": "uQw0zd_-HGhj"
      },
      "id": "uQw0zd_-HGhj"
    },
    {
      "cell_type": "code",
      "execution_count": 13,
      "id": "b738d395",
      "metadata": {
        "colab": {
          "base_uri": "https://localhost:8080/"
        },
        "id": "b738d395",
        "outputId": "79dc10dc-f425-482c-f38c-5c4dcbaa12af"
      },
      "outputs": [
        {
          "output_type": "stream",
          "name": "stdout",
          "text": [
            "fatal: destination path 'QD3SET' already exists and is not an empty directory.\n"
          ]
        }
      ],
      "source": [
        "!git clone https://github.com/Arif-PhyChem/QD3SET.git    "
      ]
    },
    {
      "cell_type": "markdown",
      "source": [
        "**Check the folder**"
      ],
      "metadata": {
        "id": "eRzMIgDxHwBp"
      },
      "id": "eRzMIgDxHwBp"
    },
    {
      "cell_type": "code",
      "source": [
        "ls /content/QD3SET"
      ],
      "metadata": {
        "colab": {
          "base_uri": "https://localhost:8080/"
        },
        "id": "LEHX7d7uHoT9",
        "outputId": "17e77eb6-9079-42f7-9233-e5b45337da4f"
      },
      "id": "LEHX7d7uHoT9",
      "execution_count": 14,
      "outputs": [
        {
          "output_type": "stream",
          "name": "stdout",
          "text": [
            "cal_details.py  example.ipynb  \u001b[0m\u001b[01;34mfmo_data\u001b[0m/        methods.py    README.md\n",
            "dataset.py      example.py     hamiltonians.py  \u001b[01;34m__pycache__\u001b[0m/  \u001b[01;34msb_data\u001b[0m/\n"
          ]
        }
      ]
    },
    {
      "cell_type": "markdown",
      "source": [
        "## Change working Directory to QD3SET directory"
      ],
      "metadata": {
        "id": "QBIKys--G4j9"
      },
      "id": "QBIKys--G4j9"
    },
    {
      "cell_type": "code",
      "source": [
        "import os\n",
        "import sys\n",
        "\n",
        "QD3SET_DIR = os.getcwd() + '/QD3SET'\n",
        "if QD3SET_DIR not in sys.path:\n",
        "    sys.path.append(QD3SET_DIR)"
      ],
      "metadata": {
        "id": "u2zWqABEGVGr"
      },
      "id": "u2zWqABEGVGr",
      "execution_count": 32,
      "outputs": []
    },
    {
      "cell_type": "code",
      "execution_count": 33,
      "id": "5a1bf78c",
      "metadata": {
        "id": "5a1bf78c"
      },
      "outputs": [],
      "source": [
        "import numpy as np\n",
        "from dataset import qddset"
      ]
    },
    {
      "cell_type": "markdown",
      "id": "33a692cd",
      "metadata": {
        "id": "33a692cd"
      },
      "source": [
        "\n",
        "## **parameter details**\n",
        "\n",
        "\n",
        "```extr_choice```: str     # type string \n",
        "\n",
        "```methodType```: str      # type string\n",
        "\n",
        "```FMOtype```:  str        # type string\n",
        "\n",
        "```dataPath```: str        # type string\n",
        "\n",
        "```Nsites```: int          # type integer\n",
        "\n",
        "\n",
        "### **```extr_choice``` (extraction choice):**\n",
        "We can pass multiple extraction choices. For instance, To extract data with site-1 as initial excitation, \n",
        "pass ```extr_choice = 'site-1'```. For extraction of site-6 data, \n",
        "pass ```extr_choice = 'site-6'``` and similarly for site-8 data pass ```'site-8'```. \n",
        "To extract all data, just pass ```extr_choice = 'all'```. The default choice is ```'cal_details'``` which \n",
        "only shows calculation details. For spin-boson model, ```extr_choices``` are ```'all', 'sym', 'asym', and 'cal_details'```.\n",
        "\n",
        "\n",
        "\n",
        "### **```systemType``` (system type):** \n",
        "\n",
        "Pass ```'SB'``` for spin-boson and ```'FMO'``` for FMO complex\n",
        "\n",
        "\n",
        "\n",
        "### **```methodType``` (method type):**\n",
        "\n",
        "Pass ```'HEOM'``` or ```'LTLME'``` for the extraction of the corresponding data\n",
        "\n",
        "\n",
        "\n",
        "\n",
        "### **```FMOtype``` (Type of FMO):**\n",
        "\n",
        "In our dataset, we have generated LTLME data with two Hamiltonians for both\n",
        "7-site and 8-site FMO. Here we represent them as I and II (check the paper).\n",
        "\n",
        "\n",
        "\n",
        "### **```dataPath``` (path to data directory):**\n",
        "\n",
        "pass the data path to the concerend data set\n",
        "\n",
        "\n",
        "\n",
        "### **```Nsites``` (number of sites in FMO case):**\n",
        "\n",
        "it can be 7, 8, or 24 (for trimer)"
      ]
    },
    {
      "cell_type": "markdown",
      "id": "636cdfe4",
      "metadata": {
        "id": "636cdfe4"
      },
      "source": [
        "## **Extracting only the calculation details for spin-boson dataset** \n",
        "\n",
        "For the sake of demonstration, we are providing 40 trajectories in ```sb_data``` folder, 20 of them are for symmetric case and 20 for asymetric case. If we provide `extr_choice : cal_details`, then we only get calculation details and Hamiltonian\n",
        "\n",
        "print(`output.details` and `output.H`)  "
      ]
    },
    {
      "cell_type": "code",
      "source": [
        "param = {'extr_choice': 'cal_details',\n",
        "        'systemType': 'SB',\n",
        "         'methodType': 'HEOM',\n",
        "        'dataPath': 'sb_data'\n",
        "        }\n",
        "data = qddset(**param) #  initializing parameters\n",
        "output = data.extract() # extracting the data\n",
        "\n",
        "### Output ###\n",
        "\n",
        "print('Calculation details = ', output.details)   # print out the calculation details\n",
        "print('Hamiltonian =' , output.H)         # print out the Hamiltonian \n"
      ],
      "metadata": {
        "id": "6d_NfLVyjt5L",
        "outputId": "3efcb1d7-372c-4afa-8a8a-722a71db0f0b",
        "colab": {
          "base_uri": "https://localhost:8080/"
        }
      },
      "id": "6d_NfLVyjt5L",
      "execution_count": 38,
      "outputs": [
        {
          "output_type": "stream",
          "name": "stdout",
          "text": [
            "*****************************************\n",
            "QDDSET-1 contains trajectories propagated for reduced density matrix of spin-boson model and FMO complex. Two methods were used: Local-thermalizing Lindblad Equation of Motion (LTLME) and Hierarachical Equations of Motion (HEOM). For more details, please read our article \" Arif Ullah, Luis E. Herrera Rodriguez, Pavlo O. Dral, and Alexei A. Kananenka, QDDSET-1: A Quantum Dissipative Dynamics Dataset\" \n",
            " *******************************************\"\n",
            "Running with the extraction choice \" cal_details \"\n",
            "Extracting data for \" SB \"\n",
            "Extracting data for \" HEOM \"\n",
            "Extracting data from \" sb_data \" directory\n",
            "Calculation details =   \n",
            " ****************************************************************\n",
            "  In the spin-boson calculations, we consider both symmetric and asymmetric cases and for each case, we generate 500 trajectories. The data is generated with the HEOM method implemented in the QuTip package (v.2.6)  [https://qutip.org/]. The hierarchy depth 'L' was set 30 and the number of Mastsubara terms 'K'  was changed with temperature, i,e., beta = 0.1 K = 2, beta = 0.25 K = 3, beta = 0.5 K = 3, beta = 0.75 K = 4, beta = 1.0 K = 5. The time-step for propagation was set to dt = 0.05 and values were recorded for each dt = 0.1. In spin-boson model, the Hamiltonian is written as \n",
            " H = [epsilon,  Delta \n",
            "     Delta*,  0] \n",
            ". For symmetric case, epsilon is 0 and we set it to 1 for asymmetric case. For both cases, Delta is 1. \n",
            " From the database, the data and the corresponding parameters can be extracted as;  You can pass an extraction choice with keyword \"function(extr_choice: choice)\". The choice here is 'all', 'sym', 'asym' or 'cal_details' which extracts data for the corresponding choice. The default choice is the 'cal_details' which provides details about the calculations. \n",
            " \n",
            "  From the output of the function, you can access the data as: 'output.data' (for trajectories), 'output.N_trajs' (total number of trajectories), 'output.epsilon' (energy difference between the two states), 'output.Delta' (interaction strength between the two states)  ,'output.gamma' (the cutoff frequencies for all trajectories), 'output.lamb' (the system-bath coupling strengths for all trajectories) and the 'output.beta' (inverse temperature values for all trajectories).\n",
            " \n",
            "  It is worth-emphasizing that 'output.data' is a dictionary and to extract the data, you can use 'xyz=list(output.data.values())', where 'xyz[i]' gives you the ith trajectory corresponding to the ith value in the epsilon, Delta, gamma ,lamb and  temp (all parameters are in atomic units). For more details please read our article \n",
            " \" Arif Ullah, Luis E. Herrera Rodriguez, Pavlo O. Dral, and Alexei A. Kananenka, QD3SET-1: A Database woth Quantum Dissipative Dynamics Data sets https://doi.org/10.48550/arXiv.2301.12096\" \n",
            " ***************************************************************\n",
            "Hamiltonian = ['epsilon', 'Delta', 'Delta*', '0']\n"
          ]
        }
      ]
    },
    {
      "cell_type": "markdown",
      "source": [
        "## **Extracting data for the symmetric spin-boson dataset** \n",
        "\n",
        "We provide `extr_choice : sym`, and from the output, we can extract the corresponding data using the following options \n",
        "\n",
        "`print(output.details)` for calculation details\n",
        "\n",
        "`print(output.H)` for Hamiltonian\n",
        "\n",
        "`print(output.N_trajs)` to see the number of trajectories\n",
        "\n",
        "`print(output.gamma)` to see the values of gamma (cutoff frequencies of bath)\n",
        "\n",
        "`print(output.lamb)` to see the values of lambda (system bath coupling strengths)\n",
        "\n",
        "`print(output.temp)` to see the values of temperature\n",
        "\n",
        "`print(output.epsilon)` to see the values of energy difference between two states \n",
        "\n",
        "`print(output.Delta)`  to see the values of coupling strength between the two states in spin-boson model\n",
        "\n",
        "`data = list(output.data.values())` makes the trajectories accessible. With `print(data[i])`, we access the ith trajectory"
      ],
      "metadata": {
        "id": "429Q2sNmkiUd"
      },
      "id": "429Q2sNmkiUd"
    },
    {
      "cell_type": "code",
      "execution_count": 42,
      "id": "3e5c41ab",
      "metadata": {
        "colab": {
          "base_uri": "https://localhost:8080/",
          "height": 655
        },
        "id": "3e5c41ab",
        "outputId": "10a8df04-65f8-43cd-a58a-fbea0bc2c610"
      },
      "outputs": [
        {
          "output_type": "stream",
          "name": "stdout",
          "text": [
            "*****************************************\n",
            "QDDSET-1 contains trajectories propagated for reduced density matrix of spin-boson model and FMO complex. Two methods were used: Local-thermalizing Lindblad Equation of Motion (LTLME) and Hierarachical Equations of Motion (HEOM). For more details, please read our article \" Arif Ullah, Luis E. Herrera Rodriguez, Pavlo O. Dral, and Alexei A. Kananenka, QDDSET-1: A Quantum Dissipative Dynamics Dataset\" \n",
            " *******************************************\"\n",
            "Running with the extraction choice \" sym \"\n",
            "Extracting data for \" SB \"\n",
            "Extracting data for \" HEOM \"\n",
            "Extracting data from \" sb_data \" directory\n",
            "Calculation details =   \n",
            " ****************************************************************\n",
            "  In the spin-boson calculations, we consider both symmetric and asymmetric cases and for each case, we generate 500 trajectories. The data is generated with the HEOM method implemented in the QuTip package (v.2.6)  [https://qutip.org/]. The hierarchy depth 'L' was set 30 and the number of Mastsubara terms 'K'  was changed with temperature, i,e., beta = 0.1 K = 2, beta = 0.25 K = 3, beta = 0.5 K = 3, beta = 0.75 K = 4, beta = 1.0 K = 5. The time-step for propagation was set to dt = 0.05 and values were recorded for each dt = 0.1. In spin-boson model, the Hamiltonian is written as \n",
            " H = [epsilon,  Delta \n",
            "     Delta*,  0] \n",
            ". For symmetric case, epsilon is 0 and we set it to 1 for asymmetric case. For both cases, Delta is 1. \n",
            " From the database, the data and the corresponding parameters can be extracted as;  You can pass an extraction choice with keyword \"function(extr_choice: choice)\". The choice here is 'all', 'sym', 'asym' or 'cal_details' which extracts data for the corresponding choice. The default choice is the 'cal_details' which provides details about the calculations. \n",
            " \n",
            "  From the output of the function, you can access the data as: 'output.data' (for trajectories), 'output.N_trajs' (total number of trajectories), 'output.epsilon' (energy difference between the two states), 'output.Delta' (interaction strength between the two states)  ,'output.gamma' (the cutoff frequencies for all trajectories), 'output.lamb' (the system-bath coupling strengths for all trajectories) and the 'output.beta' (inverse temperature values for all trajectories).\n",
            " \n",
            "  It is worth-emphasizing that 'output.data' is a dictionary and to extract the data, you can use 'xyz=list(output.data.values())', where 'xyz[i]' gives you the ith trajectory corresponding to the ith value in the epsilon, Delta, gamma ,lamb and  temp (all parameters are in atomic units). For more details please read our article \n",
            " \" Arif Ullah, Luis E. Herrera Rodriguez, Pavlo O. Dral, and Alexei A. Kananenka, QD3SET-1: A Database woth Quantum Dissipative Dynamics Data sets https://doi.org/10.48550/arXiv.2301.12096\" \n",
            " ***************************************************************\n",
            "Hamiltonian = ['epsilon', 'Delta', 'Delta*', '0']\n",
            "Cutoff frequencies =  []\n",
            "System bath coupling strengths =  []\n"
          ]
        },
        {
          "output_type": "error",
          "ename": "AttributeError",
          "evalue": "ignored",
          "traceback": [
            "\u001b[0;31m---------------------------------------------------------------------------\u001b[0m",
            "\u001b[0;31mAttributeError\u001b[0m                            Traceback (most recent call last)",
            "\u001b[0;32m<ipython-input-42-27190bc9c90a>\u001b[0m in \u001b[0;36m<module>\u001b[0;34m\u001b[0m\n\u001b[1;32m     13\u001b[0m \u001b[0mprint\u001b[0m\u001b[0;34m(\u001b[0m\u001b[0;34m'Cutoff frequencies = '\u001b[0m\u001b[0;34m,\u001b[0m \u001b[0moutput\u001b[0m\u001b[0;34m.\u001b[0m\u001b[0mgamma\u001b[0m\u001b[0;34m)\u001b[0m\u001b[0;34m\u001b[0m\u001b[0;34m\u001b[0m\u001b[0m\n\u001b[1;32m     14\u001b[0m \u001b[0mprint\u001b[0m\u001b[0;34m(\u001b[0m\u001b[0;34m'System bath coupling strengths = '\u001b[0m\u001b[0;34m,\u001b[0m \u001b[0moutput\u001b[0m\u001b[0;34m.\u001b[0m\u001b[0mlamb\u001b[0m\u001b[0;34m)\u001b[0m\u001b[0;34m\u001b[0m\u001b[0;34m\u001b[0m\u001b[0m\n\u001b[0;32m---> 15\u001b[0;31m \u001b[0mprint\u001b[0m\u001b[0;34m(\u001b[0m\u001b[0;34m'Inverse temperature ='\u001b[0m\u001b[0;34m,\u001b[0m \u001b[0moutput\u001b[0m\u001b[0;34m.\u001b[0m\u001b[0mtemp\u001b[0m\u001b[0;34m)\u001b[0m\u001b[0;34m\u001b[0m\u001b[0;34m\u001b[0m\u001b[0m\n\u001b[0m\u001b[1;32m     16\u001b[0m \u001b[0mprint\u001b[0m\u001b[0;34m(\u001b[0m\u001b[0;34m'Energy difference ='\u001b[0m\u001b[0;34m,\u001b[0m \u001b[0moutput\u001b[0m\u001b[0;34m.\u001b[0m\u001b[0mepsilon\u001b[0m\u001b[0;34m)\u001b[0m\u001b[0;34m\u001b[0m\u001b[0;34m\u001b[0m\u001b[0m\n\u001b[1;32m     17\u001b[0m \u001b[0mprint\u001b[0m\u001b[0;34m(\u001b[0m\u001b[0;34m'Tunneling matrix element ='\u001b[0m\u001b[0;34m,\u001b[0m \u001b[0moutput\u001b[0m\u001b[0;34m.\u001b[0m\u001b[0mDelta\u001b[0m\u001b[0;34m)\u001b[0m\u001b[0;34m\u001b[0m\u001b[0;34m\u001b[0m\u001b[0m\n",
            "\u001b[0;31mAttributeError\u001b[0m: 'sbm' object has no attribute 'temp'"
          ]
        }
      ],
      "source": [
        "param = {'extr_choice': 'sym',\n",
        "        'systemType': 'SB',\n",
        "         'methodType': 'HEOM',\n",
        "        'dataPath': 'sb_data'\n",
        "        }\n",
        "data = qddset(**param) #  initializing parameters\n",
        "output = data.extract() # extracting the data\n",
        "traj = list(output.data.values()) # extract trajectories\n",
        "### Output ###\n",
        "\n",
        "print('Calculation details = ', output.details)   \n",
        "print('Hamiltonian =' , output.H)         \n",
        "print('Cutoff frequencies = ', output.gamma)      \n",
        "print('System bath coupling strengths = ', output.lamb) \n",
        "print('Inverse temperature =', output.temp) \n",
        "print('Energy difference =', output.epsilon) \n",
        "print('Tunneling matrix element =', output.Delta)  \n",
        "print(data[i])  # print out the ith trajectory"
      ]
    },
    {
      "cell_type": "markdown",
      "source": [
        "\n",
        "#**How to extract the details**\n",
        "\n",
        "\n",
        "If the `extr_choice : cal_details`, then we only get calculation details and Hamiltonian\n",
        "\n",
        "print(`output.details` and `output.H`)\n",
        "\n",
        "If extr_choice is some other choice, then we get the following data\n",
        "\n",
        "`print(output.details)` for calculation details\n",
        "`print(output.H)` for Hamiltonian\n",
        "`print(output.N_trajs)` to see the number of trajectories\n",
        "`print(output.gamma)` to see the values of gamma (cutoff frequencies of bath)\n",
        "`print(output.lamb)` to see the values of lambda (system bath coupling strengths)\n",
        "`print(output.temp)` to see the values of temperature\n",
        "`print(output.epsilon)` to see the values of energy difference between two states \n",
        "`print(output.Delta)`  to see the values of coupling strength between the two states in spin-boson model\n",
        "`data = list(output.data.values())` makes the trajectories accessible. With `print(data[i])`, we access the ith trajectory\n"
      ],
      "metadata": {
        "id": "dmDI5VqIgWQ6"
      },
      "id": "dmDI5VqIgWQ6"
    },
    {
      "cell_type": "code",
      "source": [
        "print(output.details)"
      ],
      "metadata": {
        "id": "ys4kI0guhZGr",
        "outputId": "1d5467a5-da90-4c77-d3ef-2503176a7516",
        "colab": {
          "base_uri": "https://localhost:8080/"
        }
      },
      "id": "ys4kI0guhZGr",
      "execution_count": 36,
      "outputs": [
        {
          "output_type": "stream",
          "name": "stdout",
          "text": [
            " \n",
            " ****************************************************************\n",
            "  In the spin-boson calculations, we consider both symmetric and asymmetric cases and for each case, we generate 500 trajectories. The data is generated with the HEOM method implemented in the QuTip package (v.2.6)  [https://qutip.org/]. The hierarchy depth 'L' was set 30 and the number of Mastsubara terms 'K'  was changed with temperature, i,e., beta = 0.1 K = 2, beta = 0.25 K = 3, beta = 0.5 K = 3, beta = 0.75 K = 4, beta = 1.0 K = 5. The time-step for propagation was set to dt = 0.05 and values were recorded for each dt = 0.1. In spin-boson model, the Hamiltonian is written as \n",
            " H = [epsilon,  Delta \n",
            "     Delta*,  0] \n",
            ". For symmetric case, epsilon is 0 and we set it to 1 for asymmetric case. For both cases, Delta is 1. \n",
            " From the database, the data and the corresponding parameters can be extracted as;  You can pass an extraction choice with keyword \"function(extr_choice: choice)\". The choice here is 'all', 'sym', 'asym' or 'cal_details' which extracts data for the corresponding choice. The default choice is the 'cal_details' which provides details about the calculations. \n",
            " \n",
            "  From the output of the function, you can access the data as: 'output.data' (for trajectories), 'output.N_trajs' (total number of trajectories), 'output.epsilon' (energy difference between the two states), 'output.Delta' (interaction strength between the two states)  ,'output.gamma' (the cutoff frequencies for all trajectories), 'output.lamb' (the system-bath coupling strengths for all trajectories) and the 'output.beta' (inverse temperature values for all trajectories).\n",
            " \n",
            "  It is worth-emphasizing that 'output.data' is a dictionary and to extract the data, you can use 'xyz=list(output.data.values())', where 'xyz[i]' gives you the ith trajectory corresponding to the ith value in the epsilon, Delta, gamma ,lamb and  temp (all parameters are in atomic units). For more details please read our article \n",
            " \" Arif Ullah, Luis E. Herrera Rodriguez, Pavlo O. Dral, and Alexei A. Kananenka, QD3SET-1: A Database woth Quantum Dissipative Dynamics Data sets https://doi.org/10.48550/arXiv.2301.12096\" \n",
            " ***************************************************************\n"
          ]
        }
      ]
    }
  ],
  "metadata": {
    "kernelspec": {
      "display_name": "Python 3",
      "language": "python",
      "name": "python3"
    },
    "language_info": {
      "codemirror_mode": {
        "name": "ipython",
        "version": 3
      },
      "file_extension": ".py",
      "mimetype": "text/x-python",
      "name": "python",
      "nbconvert_exporter": "python",
      "pygments_lexer": "ipython3",
      "version": "3.9.15"
    },
    "colab": {
      "provenance": []
    }
  },
  "nbformat": 4,
  "nbformat_minor": 5
}