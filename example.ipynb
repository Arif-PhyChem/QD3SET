{
  "cells": [
    {
      "cell_type": "markdown",
      "id": "4de581f7",
      "metadata": {
        "id": "4de581f7"
      },
      "source": [
        "[![Open In Colab](https://colab.research.google.com/assets/colab-badge.svg)](\n",
        "https://colab.research.google.com/github/Arif-PhyChem/QD3SET/blob/main/example.ipynb)"
      ]
    },
    {
      "cell_type": "markdown",
      "source": [
        "## **Import QD3SET extraction package from the GitHub repo**"
      ],
      "metadata": {
        "id": "uQw0zd_-HGhj"
      },
      "id": "uQw0zd_-HGhj"
    },
    {
      "cell_type": "code",
      "execution_count": 2,
      "id": "b738d395",
      "metadata": {
        "colab": {
          "base_uri": "https://localhost:8080/"
        },
        "id": "b738d395",
        "outputId": "57201517-8947-4d1a-a384-1ab73497aaa1"
      },
      "outputs": [
        {
          "output_type": "stream",
          "name": "stdout",
          "text": [
            "Cloning into 'QD3SET'...\n",
            "remote: Enumerating objects: 334, done.\u001b[K\n",
            "remote: Counting objects: 100% (47/47), done.\u001b[K\n",
            "remote: Compressing objects: 100% (47/47), done.\u001b[K\n",
            "remote: Total 334 (delta 27), reused 0 (delta 0), pack-reused 287\u001b[K\n",
            "Receiving objects: 100% (334/334), 105.43 MiB | 19.04 MiB/s, done.\n",
            "Resolving deltas: 100% (147/147), done.\n",
            "Updating files: 100% (76/76), done.\n"
          ]
        }
      ],
      "source": [
        "!git clone https://github.com/Arif-PhyChem/QD3SET.git    "
      ]
    },
    {
      "cell_type": "markdown",
      "source": [
        "**Check the folder**"
      ],
      "metadata": {
        "id": "eRzMIgDxHwBp"
      },
      "id": "eRzMIgDxHwBp"
    },
    {
      "cell_type": "code",
      "source": [
        "ls /content/QD3SET"
      ],
      "metadata": {
        "colab": {
          "base_uri": "https://localhost:8080/"
        },
        "id": "LEHX7d7uHoT9",
        "outputId": "5737f20d-1e6d-4f3f-fc56-61cb6f0db5bc"
      },
      "id": "LEHX7d7uHoT9",
      "execution_count": 3,
      "outputs": [
        {
          "output_type": "stream",
          "name": "stdout",
          "text": [
            "cal_details.py  example.ipynb  hamiltonians.py  README.md\n",
            "dataset.py      \u001b[0m\u001b[01;34mfmo_data\u001b[0m/      methods.py       \u001b[01;34msb_data\u001b[0m/\n"
          ]
        }
      ]
    },
    {
      "cell_type": "markdown",
      "source": [
        "## **Change working directory to QD3SET directory**"
      ],
      "metadata": {
        "id": "QBIKys--G4j9"
      },
      "id": "QBIKys--G4j9"
    },
    {
      "cell_type": "code",
      "source": [
        "import os\n",
        "import sys\n",
        "\n",
        "QD3SET_DIR = os.getcwd() + '/QD3SET'\n",
        "if QD3SET_DIR not in sys.path:\n",
        "    sys.path.append(QD3SET_DIR)"
      ],
      "metadata": {
        "id": "u2zWqABEGVGr"
      },
      "id": "u2zWqABEGVGr",
      "execution_count": 4,
      "outputs": []
    },
    {
      "cell_type": "code",
      "execution_count": 5,
      "id": "5a1bf78c",
      "metadata": {
        "id": "5a1bf78c"
      },
      "outputs": [],
      "source": [
        "import numpy as np\n",
        "from dataset import qddset"
      ]
    },
    {
      "cell_type": "markdown",
      "id": "33a692cd",
      "metadata": {
        "id": "33a692cd"
      },
      "source": [
        "\n",
        "## **Parameter details**\n",
        "\n",
        "\n",
        "**```extr_choice```:** str      type string \n",
        "\n",
        "**```methodType```:** str       type string\n",
        "\n",
        "**```FMOtype```:**  str         type string\n",
        "\n",
        "**```dataPath```:** str         type string\n",
        "\n",
        "**```Nsites```:** int           type integer\n",
        "\n",
        "\n",
        "### **```extr_choice``` (extraction choice):**\n",
        "We can pass multiple extraction choices. For instance, To extract data with site-1 as initial excitation, \n",
        "pass ```extr_choice = 'site-1'```. For extraction of site-6 data, \n",
        "pass ```extr_choice = 'site-6'``` and similarly for site-8 data pass ```'site-8'```. \n",
        "To extract all data, just pass ```extr_choice = 'all'```. The default choice is ```'cal_details'``` which \n",
        "only shows calculation details. For spin-boson model, ```extr_choices``` are ```'all', 'sym', 'asym', and 'cal_details'```.\n",
        "\n",
        "\n",
        "\n",
        "### **```systemType``` (system type):** \n",
        "\n",
        "Pass ```'SB'``` for spin-boson and ```'FMO'``` for FMO complex\n",
        "\n",
        "\n",
        "\n",
        "### **```methodType``` (method type):**\n",
        "\n",
        "Pass ```'HEOM'``` or ```'LTLME'``` for the extraction of the corresponding data\n",
        "\n",
        "\n",
        "\n",
        "\n",
        "### **```FMOtype``` (Type of FMO):**\n",
        "\n",
        "In our database, in the case of 7-site and 8-site FMO, we have generated LTLME data with two different Hamiltonians. Here we represent them as **I** and **II** (check the paper).\n",
        "\n",
        "\n",
        "\n",
        "### **```dataPath``` (path to data directory):**\n",
        "\n",
        "pass the data path to the concerend data set\n",
        "\n",
        "\n",
        "\n",
        "### **```Nsites``` (number of sites in FMO case):**\n",
        "\n",
        "it can be 7, 8, or 24 (for trimer)\n"
      ]
    },
    {
      "cell_type": "markdown",
      "source": [
        "# **Downloading the database**\n",
        "\n",
        "First of all, we need to download the database from the figshare https://figshare.com/s/ed24594205ab87404238 (later, it will be replaced by doi link). However, for hands-on paractice, we don't need to download the database. we can use the few trajectories provided in the GitHub reporsitory. ***For the sake of demonstration***, we are providing 30 trajectories for 8-site FMO complex (10 trajectories for each case with initial excitation, sites-1, 6 and 8) in `fmo_data` folder for 8-site FMO complex from our FMO-IV data set of our QD3SET-1 database. For spin-boson (SB) model, we are providing 40 trajectories in `sb_data` folder from our spin-boson data set of our QD3SET-1 database. 20 of these trajectories are for symmetric case and 20 for asymmetric case. So Let's first check the trajectories\n"
      ],
      "metadata": {
        "id": "WluIfDl8Ov1d"
      },
      "id": "WluIfDl8Ov1d"
    },
    {
      "cell_type": "code",
      "source": [
        "!ls QD3SET/sb_data    # SB data\n",
        "!ls QD3SET/fmo_data   # FMO data"
      ],
      "metadata": {
        "colab": {
          "base_uri": "https://localhost:8080/"
        },
        "id": "aFprmoPuRSEs",
        "outputId": "b6044fd8-d4f6-48f5-a103-ff11ee113541"
      },
      "id": "aFprmoPuRSEs",
      "execution_count": 18,
      "outputs": [
        {
          "output_type": "stream",
          "name": "stdout",
          "text": [
            "2_epsilon-0.0_Delta-1.0_lambda-0.1_gamma-10.0_beta-0.1.npy\n",
            "2_epsilon-0.0_Delta-1.0_lambda-0.1_gamma-10.0_beta-0.25.npy\n",
            "2_epsilon-0.0_Delta-1.0_lambda-0.1_gamma-10.0_beta-0.5.npy\n",
            "2_epsilon-0.0_Delta-1.0_lambda-0.1_gamma-10.0_beta-0.75.npy\n",
            "2_epsilon-0.0_Delta-1.0_lambda-0.1_gamma-10.0_beta-1.0.npy\n",
            "2_epsilon-0.0_Delta-1.0_lambda-0.1_gamma-1.0_beta-0.1.npy\n",
            "2_epsilon-0.0_Delta-1.0_lambda-0.1_gamma-1.0_beta-0.25.npy\n",
            "2_epsilon-0.0_Delta-1.0_lambda-0.1_gamma-1.0_beta-0.5.npy\n",
            "2_epsilon-0.0_Delta-1.0_lambda-0.1_gamma-1.0_beta-0.75.npy\n",
            "2_epsilon-0.0_Delta-1.0_lambda-0.1_gamma-1.0_beta-1.0.npy\n",
            "2_epsilon-0.0_Delta-1.0_lambda-0.1_gamma-2.0_beta-0.1.npy\n",
            "2_epsilon-0.0_Delta-1.0_lambda-0.1_gamma-2.0_beta-0.25.npy\n",
            "2_epsilon-0.0_Delta-1.0_lambda-0.1_gamma-2.0_beta-0.5.npy\n",
            "2_epsilon-0.0_Delta-1.0_lambda-0.1_gamma-2.0_beta-0.75.npy\n",
            "2_epsilon-0.0_Delta-1.0_lambda-0.1_gamma-2.0_beta-1.0.npy\n",
            "2_epsilon-0.0_Delta-1.0_lambda-0.1_gamma-3.0_beta-0.1.npy\n",
            "2_epsilon-0.0_Delta-1.0_lambda-0.1_gamma-3.0_beta-0.25.npy\n",
            "2_epsilon-0.0_Delta-1.0_lambda-0.1_gamma-3.0_beta-0.5.npy\n",
            "2_epsilon-0.0_Delta-1.0_lambda-0.1_gamma-3.0_beta-0.75.npy\n",
            "2_epsilon-0.0_Delta-1.0_lambda-0.1_gamma-3.0_beta-1.0.npy\n",
            "2_epsilon-1.0_Delta-1.0_lambda-0.3_gamma-10.0_beta-1.0.npy\n",
            "2_epsilon-1.0_Delta-1.0_lambda-0.5_gamma-6.0_beta-0.1.npy\n",
            "2_epsilon-1.0_Delta-1.0_lambda-0.6_gamma-2.0_beta-0.75.npy\n",
            "2_epsilon-1.0_Delta-1.0_lambda-0.6_gamma-3.0_beta-0.75.npy\n",
            "2_epsilon-1.0_Delta-1.0_lambda-0.6_gamma-4.0_beta-0.1.npy\n",
            "2_epsilon-1.0_Delta-1.0_lambda-0.6_gamma-4.0_beta-1.0.npy\n",
            "2_epsilon-1.0_Delta-1.0_lambda-0.6_gamma-5.0_beta-0.25.npy\n",
            "2_epsilon-1.0_Delta-1.0_lambda-0.6_gamma-5.0_beta-1.0.npy\n",
            "2_epsilon-1.0_Delta-1.0_lambda-0.6_gamma-6.0_beta-1.0.npy\n",
            "2_epsilon-1.0_Delta-1.0_lambda-0.6_gamma-7.0_beta-1.0.npy\n",
            "2_epsilon-1.0_Delta-1.0_lambda-0.6_gamma-9.0_beta-0.25.npy\n",
            "2_epsilon-1.0_Delta-1.0_lambda-0.6_gamma-9.0_beta-0.5.npy\n",
            "2_epsilon-1.0_Delta-1.0_lambda-0.7_gamma-10.0_beta-0.5.npy\n",
            "2_epsilon-1.0_Delta-1.0_lambda-0.9_gamma-3.0_beta-1.0.npy\n",
            "2_epsilon-1.0_Delta-1.0_lambda-0.9_gamma-5.0_beta-0.25.npy\n",
            "2_epsilon-1.0_Delta-1.0_lambda-0.9_gamma-6.0_beta-1.0.npy\n",
            "2_epsilon-1.0_Delta-1.0_lambda-0.9_gamma-7.0_beta-1.0.npy\n",
            "2_epsilon-1.0_Delta-1.0_lambda-0.9_gamma-9.0_beta-0.75.npy\n",
            "2_epsilon-1.0_Delta-1.0_lambda-1.0_gamma-3.0_beta-0.1.npy\n",
            "2_epsilon-1.0_Delta-1.0_lambda-1.0_gamma-8.0_beta-0.1.npy\n",
            "8_initial-1_gamma-250.0_lambda-130.0_temp-410.0.npy\n",
            "8_initial-1_gamma-250.0_lambda-250.0_temp-390.0.npy\n",
            "8_initial-1_gamma-250.0_lambda-370.0_temp-270.0.npy\n",
            "8_initial-1_gamma-250.0_lambda-40.0_temp-370.0.npy\n",
            "8_initial-1_gamma-250.0_lambda-430.0_temp-250.0.npy\n",
            "8_initial-1_gamma-250.0_lambda-70.0_temp-130.0.npy\n",
            "8_initial-1_gamma-25.0_lambda-520.0_temp-290.0.npy\n",
            "8_initial-1_gamma-25.0_lambda-520.0_temp-370.0.npy\n",
            "8_initial-1_gamma-275.0_lambda-100.0_temp-190.0.npy\n",
            "8_initial-1_gamma-275.0_lambda-100.0_temp-290.0.npy\n",
            "8_initial-6_gamma-100.0_lambda-100.0_temp-150.0.npy\n",
            "8_initial-6_gamma-100.0_lambda-310.0_temp-150.0.npy\n",
            "8_initial-6_gamma-125.0_lambda-100.0_temp-410.0.npy\n",
            "8_initial-6_gamma-150.0_lambda-430.0_temp-470.0.npy\n",
            "8_initial-6_gamma-175.0_lambda-160.0_temp-230.0.npy\n",
            "8_initial-6_gamma-200.0_lambda-130.0_temp-330.0.npy\n",
            "8_initial-6_gamma-200.0_lambda-310.0_temp-230.0.npy\n",
            "8_initial-6_gamma-250.0_lambda-250.0_temp-390.0.npy\n",
            "8_initial-6_gamma-25.0_lambda-370.0_temp-110.0.npy\n",
            "8_initial-6_gamma-275.0_lambda-100.0_temp-290.0.npy\n",
            "8_initial-8_gamma-100.0_lambda-190.0_temp-470.0.npy\n",
            "8_initial-8_gamma-200.0_lambda-310.0_temp-230.0.npy\n",
            "8_initial-8_gamma-25.0_lambda-520.0_temp-370.0.npy\n",
            "8_initial-8_gamma-275.0_lambda-190.0_temp-450.0.npy\n",
            "8_initial-8_gamma-275.0_lambda-460.0_temp-130.0.npy\n",
            "8_initial-8_gamma-325.0_lambda-520.0_temp-410.0.npy\n",
            "8_initial-8_gamma-350.0_lambda-220.0_temp-150.0.npy\n",
            "8_initial-8_gamma-450.0_lambda-190.0_temp-430.0.npy\n",
            "8_initial-8_gamma-50.0_lambda-520.0_temp-30.0.npy\n",
            "8_initial-8_gamma-75.0_lambda-430.0_temp-30.0.npy\n"
          ]
        }
      ]
    },
    {
      "cell_type": "markdown",
      "id": "636cdfe4",
      "metadata": {
        "id": "636cdfe4"
      },
      "source": [
        "## **Extracting the corresponding calculation details from the  spin-boson trajectories** \n",
        "\n",
        "As we know, trajectories are run with specific Hamiltonian and other computational settings, and using our package, we can extract that information. For the sake of demonstration, we will be using those provided 40 trajectories in ```sb_data``` folder ***taken*** from our QD3SET-1 database. As already mentioned, 20 of these trajectories are for symmetric case and 20 for asymmetric case. \n",
        "\n",
        "To know the calculation setting of these trajectories,  we need to  provide `extr_choice : cal_details` and we will get the corresponding calculation details and Hamiltonian\n",
        "\n",
        "**`print(output.details` and `output.H)`** "
      ]
    },
    {
      "cell_type": "code",
      "source": [
        "param = {'extr_choice': 'cal_details',   # extraction choice, here we just want the calculation details \n",
        "        'systemType': 'SB',              # system type which is spin-boson model (SB)\n",
        "         'methodType': 'HEOM',           # method used for dynamics is HEOM\n",
        "        'dataPath': 'QD3SET/sb_data'     # datapath\n",
        "        }\n",
        "data = qddset(**param)   #  initializing parameters\n",
        "output = data.extract()  # extracting the data\n",
        "\n",
        "### Output ###\n",
        "\n",
        "print('Calculation details = ', output.details)   # print out the calculation details\n",
        "print('Hamiltonian =' , output.H)         # print out the Hamiltonian \n"
      ],
      "metadata": {
        "colab": {
          "base_uri": "https://localhost:8080/"
        },
        "id": "6d_NfLVyjt5L",
        "outputId": "7bbb2cea-64ed-4a0c-add8-416b487a531e"
      },
      "id": "6d_NfLVyjt5L",
      "execution_count": 20,
      "outputs": [
        {
          "output_type": "stream",
          "name": "stdout",
          "text": [
            "*****************************************\n",
            "QD3SET-1 contains trajectories propagated for reduced density matrix of spin-boson model and FMO complex. Two methods were used: Local-thermalizing Lindblad Equation of Motion (LTLME) and Hierarachical Equations of Motion (HEOM). For more details, please read our article \" Arif Ullah, Luis E. Herrera Rodriguez, Pavlo O. Dral, and Alexei A. Kananenka, QDDSET-1: A Quantum Dissipative Dynamics Dataset\" \n",
            " *******************************************\"\n",
            "Running with the extraction choice \" cal_details \"\n",
            "Extracting data for \" SB \"\n",
            "Extracting data for \" HEOM \"\n",
            "Extracting data from \" QD3SET/sb_data \" directory\n",
            "Calculation details =   \n",
            " ****************************************************************\n",
            "  In the spin-boson calculations, we consider both symmetric and asymmetric cases and for each case, we generate 500 trajectories. The data is generated with the HEOM method implemented in the QuTip package (v.2.6)  [https://qutip.org/]. The hierarchy depth 'L' was set 30 and the number of Mastsubara terms 'K'  was changed with temperature, i,e., beta = 0.1 K = 2, beta = 0.25 K = 3, beta = 0.5 K = 3, beta = 0.75 K = 4, beta = 1.0 K = 5. The time-step for propagation was set to dt = 0.05 and values were recorded for each dt = 0.1. In spin-boson model, the Hamiltonian is written as \n",
            " H = [epsilon,  Delta \n",
            "     Delta*,  0] \n",
            ". For symmetric case, epsilon is 0 and we set it to 1 for asymmetric case. For both cases, Delta is 1. \n",
            " From the database, the data and the corresponding parameters can be extracted as;  You can pass an extraction choice with keyword \"function(extr_choice: choice)\". The choice here is 'all', 'sym', 'asym' or 'cal_details' which extracts data for the corresponding choice. The default choice is the 'cal_details' which provides details about the calculations. \n",
            " \n",
            "  From the output of the function, you can access the data as: 'output.data' (for trajectories), 'output.N_trajs' (total number of trajectories), 'output.epsilon' (energy difference between the two states), 'output.Delta' (interaction strength between the two states)  ,'output.gamma' (the cutoff frequencies for all trajectories), 'output.lamb' (the system-bath coupling strengths for all trajectories) and the 'output.beta' (inverse temperature values for all trajectories).\n",
            " \n",
            "  It is worth-emphasizing that 'output.data' is a dictionary and to extract the data, you can use 'xyz=list(output.data.values())', where 'xyz[i]' gives you the ith trajectory corresponding to the ith value in the epsilon, Delta, gamma ,lamb and  temp (all parameters are in atomic units). For more details please read our article \n",
            " \" Arif Ullah, Luis E. Herrera Rodriguez, Pavlo O. Dral, and Alexei A. Kananenka, QD3SET-1: A Database woth Quantum Dissipative Dynamics Data sets https://doi.org/10.48550/arXiv.2301.12096\" \n",
            " ***************************************************************\n",
            "Hamiltonian = ['epsilon', 'Delta', 'Delta*', '0']\n"
          ]
        }
      ]
    },
    {
      "cell_type": "markdown",
      "source": [
        "#### **Extracting data for the SB symmetric trajectories** \n",
        "\n",
        "In the calculation details, we have provided details about how to extract data and values of different parameters. The 40 trajectories we have, 20 of them are for symmetric case and 20 of them are for asymmetric case. To extract only the data from symmetric trajectories, we can provide `extr_choice : sym`, and from the output, we can extract the corresponding data using the following options \n",
        "\n",
        "**`print(output.details)`** for calculation details\n",
        "\n",
        "**`print(output.H)`** for Hamiltonian  H\n",
        "\n",
        "**`print(output.N_trajs)`** to see the number of trajectories\n",
        "\n",
        "**`print(output.gamma)`** It will print out all the values of gamma γ (cutoff frequencies of bath) with `print(output.gamma[0])` for the 1st traj and `print(output.gamma[1])` for the 2nd and so on\n",
        "\n",
        "**`print(output.lamb)`** It will print out all the values of lambda λ (system bath coupling strength) with `print(output.lamb[0])` for the 1st traj and `print(output.lamb[1])` for the 2nd and so on\n",
        "\n",
        "**`print(output.beta)`** It will print out all the values of inverse temperature β with `print(output.beta[0])` for the 1st traj and `print(output.beta[1])` for the 2nd and so on\n",
        "\n",
        "**`print(output.epsilon)`** It will print out all the values of energy difference between two states ϵ with `print(output.epsilon0])` for the 1st traj and `print(output.epsilon[1])` for the 2nd and so on\n",
        "\n",
        "**`print(output.Delta)`**  It will print out all the values of tunneling matrix element Δ, with `print(output.Delta[0])` for the 1st traj and `print(output.Delta[1])` for the 2nd and so on \n",
        "\n",
        "**`data = list(output.data.values())`** makes the trajectories accessible. With **`print(data[i])`**, we access the ith trajectory"
      ],
      "metadata": {
        "id": "429Q2sNmkiUd"
      },
      "id": "429Q2sNmkiUd"
    },
    {
      "cell_type": "code",
      "execution_count": 21,
      "id": "3e5c41ab",
      "metadata": {
        "colab": {
          "base_uri": "https://localhost:8080/"
        },
        "id": "3e5c41ab",
        "outputId": "a6fef6b2-1c31-495c-d7c8-5fb81b3acaec"
      },
      "outputs": [
        {
          "output_type": "stream",
          "name": "stdout",
          "text": [
            "*****************************************\n",
            "QD3SET-1 contains trajectories propagated for reduced density matrix of spin-boson model and FMO complex. Two methods were used: Local-thermalizing Lindblad Equation of Motion (LTLME) and Hierarachical Equations of Motion (HEOM). For more details, please read our article \" Arif Ullah, Luis E. Herrera Rodriguez, Pavlo O. Dral, and Alexei A. Kananenka, QDDSET-1: A Quantum Dissipative Dynamics Dataset\" \n",
            " *******************************************\"\n",
            "Running with the extraction choice \" sym \"\n",
            "Extracting data for \" SB \"\n",
            "Extracting data for \" HEOM \"\n",
            "Extracting data from \" QD3SET/sb_data \" directory\n",
            "Total number of trajectories =  20\n",
            "Calculation details =   \n",
            " ****************************************************************\n",
            "  In the spin-boson calculations, we consider both symmetric and asymmetric cases and for each case, we generate 500 trajectories. The data is generated with the HEOM method implemented in the QuTip package (v.2.6)  [https://qutip.org/]. The hierarchy depth 'L' was set 30 and the number of Mastsubara terms 'K'  was changed with temperature, i,e., beta = 0.1 K = 2, beta = 0.25 K = 3, beta = 0.5 K = 3, beta = 0.75 K = 4, beta = 1.0 K = 5. The time-step for propagation was set to dt = 0.05 and values were recorded for each dt = 0.1. In spin-boson model, the Hamiltonian is written as \n",
            " H = [epsilon,  Delta \n",
            "     Delta*,  0] \n",
            ". For symmetric case, epsilon is 0 and we set it to 1 for asymmetric case. For both cases, Delta is 1. \n",
            " From the database, the data and the corresponding parameters can be extracted as;  You can pass an extraction choice with keyword \"function(extr_choice: choice)\". The choice here is 'all', 'sym', 'asym' or 'cal_details' which extracts data for the corresponding choice. The default choice is the 'cal_details' which provides details about the calculations. \n",
            " \n",
            "  From the output of the function, you can access the data as: 'output.data' (for trajectories), 'output.N_trajs' (total number of trajectories), 'output.epsilon' (energy difference between the two states), 'output.Delta' (interaction strength between the two states)  ,'output.gamma' (the cutoff frequencies for all trajectories), 'output.lamb' (the system-bath coupling strengths for all trajectories) and the 'output.beta' (inverse temperature values for all trajectories).\n",
            " \n",
            "  It is worth-emphasizing that 'output.data' is a dictionary and to extract the data, you can use 'xyz=list(output.data.values())', where 'xyz[i]' gives you the ith trajectory corresponding to the ith value in the epsilon, Delta, gamma ,lamb and  temp (all parameters are in atomic units). For more details please read our article \n",
            " \" Arif Ullah, Luis E. Herrera Rodriguez, Pavlo O. Dral, and Alexei A. Kananenka, QD3SET-1: A Database woth Quantum Dissipative Dynamics Data sets https://doi.org/10.48550/arXiv.2301.12096\" \n",
            " ***************************************************************\n",
            "Hamiltonian = ['epsilon', 'Delta', 'Delta*', '0']\n",
            "Cutoff frequencies =  [ 1.  2.  3.  2. 10.  3.  1. 10.  3. 10.  3. 10.  1.  2.  1.  2.  1.  3.\n",
            " 10.  2.]\n",
            "System bath coupling strengths =  [0.1 0.1 0.1 0.1 0.1 0.1 0.1 0.1 0.1 0.1 0.1 0.1 0.1 0.1 0.1 0.1 0.1 0.1\n",
            " 0.1 0.1]\n",
            "Inverse temperature = [0.1  0.1  0.25 0.5  1.   0.75 0.75 0.1  0.5  0.75 0.1  0.25 0.25 0.25\n",
            " 0.5  1.   1.   1.   0.5  0.75]\n",
            "Energy difference = [0. 0. 0. 0. 0. 0. 0. 0. 0. 0. 0. 0. 0. 0. 0. 0. 0. 0. 0. 0.]\n",
            "Tunneling matrix element = [1. 1. 1. 1. 1. 1. 1. 1. 1. 1. 1. 1. 1. 1. 1. 1. 1. 1. 1. 1.]\n",
            "1st traj = [[ 0.00000000e+00+0.00000000e+00j  1.00000000e+00+0.00000000e+00j\n",
            "   0.00000000e+00+0.00000000e+00j  0.00000000e+00+0.00000000e+00j\n",
            "   0.00000000e+00+0.00000000e+00j]\n",
            " [ 5.00000000e-02+0.00000000e+00j  9.97506382e-01+0.00000000e+00j\n",
            "  -8.09900318e-06+4.97468402e-02j -8.09900318e-06-4.97468402e-02j\n",
            "   2.49361753e-03+0.00000000e+00j]\n",
            " [ 1.00000000e-01+0.00000000e+00j  9.90099635e-01+0.00000000e+00j\n",
            "  -6.25534952e-05+9.80280591e-02j -6.25534952e-05-9.80280591e-02j\n",
            "   9.90036467e-03+0.00000000e+00j]\n",
            " ...\n",
            " [ 1.99000000e+01+0.00000000e+00j  5.00000002e-01+0.00000000e+00j\n",
            "  -4.95071954e-02+1.83340399e-09j -4.95071954e-02-1.83340399e-09j\n",
            "   4.99999998e-01+0.00000000e+00j]\n",
            " [ 1.99500000e+01+0.00000000e+00j  5.00000002e-01+0.00000000e+00j\n",
            "  -4.95072102e-02+1.78694482e-09j -4.95072102e-02-1.78694482e-09j\n",
            "   4.99999998e-01+0.00000000e+00j]\n",
            " [ 2.00000000e+01+0.00000000e+00j  5.00000001e-01+0.00000000e+00j\n",
            "  -4.95072245e-02+1.71970336e-09j -4.95072245e-02-1.71970336e-09j\n",
            "   4.99999999e-01+0.00000000e+00j]]\n"
          ]
        }
      ],
      "source": [
        "param = {'extr_choice': 'sym',         # extraction choice is symmetric case (sym)\n",
        "        'systemType': 'SB',            # system type which is spin-boson model (SB)\n",
        "         'methodType': 'HEOM',         # method\n",
        "        'dataPath': 'QD3SET/sb_data'   # datapath\n",
        "        }\n",
        "data = qddset(**param) #  initializing parameters\n",
        "output = data.extract() # extracting the data\n",
        "traj = list(output.data.values()) # extract trajectories\n",
        "### Output ###\n",
        "print('Total number of trajectories = ', output.N_trajs)\n",
        "print('Calculation details = ', output.details)   \n",
        "print('Hamiltonian =' , output.H)         \n",
        "print('Cutoff frequencies = ', output.gamma)      # it provides cutoff frequencies of all 20 trajectories \n",
        "print('System bath coupling strengths = ', output.lamb) # it provides the coupling strengths of all 20 trajectories \n",
        "print('Inverse temperature =', output.beta)            # it provides beta values of all 20 trajectories \n",
        "print('Energy difference =', output.epsilon)           # a vector of energy difference\n",
        "print('Tunneling matrix element =', output.Delta)      # a vector of  Tunneling matrix element\n",
        "print('1st traj =', traj[0])  # print out the 1st trajectory, for other trajectories, you can use traj[1], traj[2],.... "
      ]
    },
    {
      "cell_type": "markdown",
      "source": [
        "\n",
        "#### **Extracting data from the SB asymmetric trajectories** \n",
        "\n",
        "To extract the data from the asymmetric trajectories, we provide `extr_choice : asym`, and from the output, we can extract the corresponding data using the options we used for symmetric case. \n",
        "\n",
        "#### **Extracting data from all trajectories including both symmetric and asymmetric cases** \n",
        "\n",
        "To extract the data from all trajectories, we provide `extr_choice : all`, and from the output, we can extract the corresponding data using the options we used for symmetric case. \n"
      ],
      "metadata": {
        "id": "dmDI5VqIgWQ6"
      },
      "id": "dmDI5VqIgWQ6"
    },
    {
      "cell_type": "markdown",
      "source": [
        "# **FMO Complex**\n",
        "Here we don't need to download FMO-datasets from our QD3SET-1 database and as mentioned before, here **for the sake of demonstration**, we are providing 30 trajectories (10 trajectories for each case with initial excitation, sites-1, 6 and 8) in `fmo_data` folder. These trajectories are for **8-site FMO complex** taken ***from FMO-IV data set of our QD3SET-1 database***. \n",
        "\n",
        "The FMO-IV data set (in the QD3SET-1 database)  was generated with the local-thermalizing Lindblad equation of motion (**`LTLME`**). \n",
        "\n",
        "###**Note:**\n",
        "In our QD3SET-1 database, we have data sets for 7, 8 and 24-site FMO complexes. In 7-site and 8-site FMO cases, for each case, two different Hamiltonians are reported in the literature, that's why, we have provided two datasets for each case, generated with two different Hamiltonians. Here, we represent and pass them as **`FMOtype: 'I'`** and **`FMOtype: 'II'`**. The trajectories we have provided here for the sake of demonstration, are from the case represented by **`I`**. \n",
        "\n",
        "#### **Extract the corresponding calculation details and Hamiltonian for FMO data set**\n",
        "\n",
        " If we provide `extr_choice : cal_details`, we can get the corresponding calculation details and Hamiltonian\n",
        "\n",
        "**`print(output.details and output.H)`**"
      ],
      "metadata": {
        "id": "gBUuGtv7wVgh"
      },
      "id": "gBUuGtv7wVgh"
    },
    {
      "cell_type": "code",
      "source": [
        "param = {'extr_choice': 'cal_details',\n",
        "         'Nsites': 8,           # number of sites\n",
        "        'systemType': 'FMO',   # system type\n",
        "         'methodType': 'LTLME',  # method\n",
        "         'FMOtype': 'I',          # case-1 as explained above\n",
        "        'dataPath': 'QD3SET/fmo_data'   # dataPath\n",
        "        }\n",
        "data = qddset(**param) #  initializing parameters\n",
        "output = data.extract() # extracting the data\n",
        "\n",
        "### Output ###\n",
        "\n",
        "print('Hamiltonian = ', output.H)\n",
        "print('Calculation details = ', output.details)   "
      ],
      "metadata": {
        "colab": {
          "base_uri": "https://localhost:8080/"
        },
        "id": "cdNxAvwYtlX1",
        "outputId": "06d6ff37-9a50-4b8b-967e-234a2c7b43e9"
      },
      "id": "cdNxAvwYtlX1",
      "execution_count": 22,
      "outputs": [
        {
          "output_type": "stream",
          "name": "stdout",
          "text": [
            "*****************************************\n",
            "QD3SET-1 contains trajectories propagated for reduced density matrix of spin-boson model and FMO complex. Two methods were used: Local-thermalizing Lindblad Equation of Motion (LTLME) and Hierarachical Equations of Motion (HEOM). For more details, please read our article \" Arif Ullah, Luis E. Herrera Rodriguez, Pavlo O. Dral, and Alexei A. Kananenka, QDDSET-1: A Quantum Dissipative Dynamics Dataset\" \n",
            " *******************************************\"\n",
            "Running with the extraction choice \" cal_details \"\n",
            "Extracting data for \" FMO \"\n",
            "Extracting data for \" LTLME \"\n",
            "Extracting data from \" QD3SET/fmo_data \" directory\n",
            "Extracting data for  8 sites FMO\n",
            "Extracting data for the  following FMO type \" I \"\n",
            "Hamiltonian =  [[ 1.2505e+04 -8.0300e+01  3.5000e+00 -4.0000e+00  4.5000e+00 -1.0200e+01\n",
            "  -4.9000e+00  2.1000e+01]\n",
            " [-8.0300e+01  1.2425e+04  2.3500e+01  6.7000e+00  5.0000e-01  7.5000e+00\n",
            "   1.5000e+00  3.3000e+00]\n",
            " [ 3.5000e+00  2.3500e+01  1.2195e+04 -4.9800e+01 -1.5000e+00 -6.5000e+00\n",
            "   1.2000e+00  7.0000e-01]\n",
            " [-4.0000e+00  6.7000e+00 -4.9800e+01  1.2375e+04  6.3400e+01 -1.3300e+01\n",
            "  -4.2200e+01 -1.2000e+00]\n",
            " [ 4.5000e+00  5.0000e-01 -1.5000e+00  6.3400e+01  1.2600e+04  5.5800e+01\n",
            "   4.7000e+00  2.8000e+00]\n",
            " [-1.0200e+01  7.5000e+00 -6.5000e+00 -1.3300e+01  5.5800e+01  1.2515e+04\n",
            "   3.3000e+01 -7.3000e+00]\n",
            " [-4.9000e+00  1.5000e+00  1.2000e+00 -4.2200e+01  4.7000e+00  3.3000e+01\n",
            "   1.2465e+04 -8.7000e+00]\n",
            " [ 2.1000e+01  3.3000e+00  7.0000e-01 -1.2000e+00  2.8000e+00 -7.3000e+00\n",
            "  -8.7000e+00  1.2700e+04]]\n",
            "Calculation details =  \n",
            " **************************************************************** \n",
            " Calculations were performed for 8-site FMO complex parametrized by Olbrich et. al. [J. Phys. Chem. B 115, 8609 (2011)]. To see the corresponding Hamiltonian, use the attribute, i.e,. output.H. Dynamics is propagated with the local thermalizing Lindblad master equation (LTLME) approach [J. Phys. Chem. Lett. 10, 7383-7390 (2019)] implemented in the quantum_HEOM package [https://github.com/jwa7/quantum_HEOM] with QuTip [https://qutip.org] in the backend. The basic quantum\\_HEOM package is restricted to 7-site FMO complex. In order to make it compatable for Hamiltonian with any dimension, we have made some local changes. In our calculations, the time-step for propagation was set to 5 fs and dynamics is propagated upto 50 ps.\n",
            "  The data and the corresponding parameters can be extracted as;  You can pass an extraction choice with keyword \"function(extr_choice: choice)\". The choice here is 'all', 'site-1', 'site-6', 'site-8' (in the case of 8-site FMO) or 'cal_details' which extracts data for the corresponding choice. The default choice is the 'cal_details' which provides details about the calculations. \n",
            " \n",
            " From the output of the function, you can access the data as: 'output.data' (for trajectories), 'output.N_trajs' (to see the total number of trajectories), 'output.initial_site' (to see the initial excited site), 'output.gamma' (to see the cutoff frequencies for all trajectories), 'output.lamb' (to see the system-bath coupling strengths for all trajectories) and the 'output.temp' (to see th temperature values for all trajectories).  \n",
            " \n",
            "  It is worth-emphasizing that 'output.data' is a dictionary and to extract the data, you can use 'xyz=list(output.data.values())', where 'xyz[i]' gives you the ith trajectory corresponding to the ith initial_site, gamma, lamb and  temp (all parameters are in cm^-1). For more details please read our article \n",
            " \" Arif Ullah, Luis E. Herrera Rodriguez, Pavlo O. Dral, and Alexei A. Kananenka, QD3SET-1: A Database woth Quantum Dissipative Dynamics Data sets https://doi.org/10.48550/arXiv.2301.12096\" \n",
            " ***************************************************************\n"
          ]
        }
      ]
    },
    {
      "cell_type": "markdown",
      "source": [
        "#### **Extract data for the trajectories with initial excitation on site-1** \n",
        "\n",
        "Among the 30 trajectories we provided for demonstration, there are 10 trajectories propagated with the initial excitation on site-1. To extract data and values of simulation parameters ($\\gamma$, $\\lambda$, $T$ etc.), we provide `extr_choice : site-1`, and from the output, we can extract the corresponding data using the following options \n",
        "\n",
        "**`print(output.details)`** for calculation details\n",
        "\n",
        "**`print(output.H)`** for Hamiltonian  H\n",
        "\n",
        "**`print(output.N_trajs)`** to see the number of trajectories\n",
        "\n",
        "**`print(output.initial_site)`** to see the site with initial excitation\n",
        "\n",
        "**`print(output.gamma)`** It will print out all the values of gamma γ (cutoff frequencies of bath) with `print(output.gamma[0])` for the 1st traj and `print(output.gamma[1])` for the 2nd and so on\n",
        "\n",
        "**`print(output.lamb)`** It will print out all the values of lambda λ (system bath coupling strength) with `print(output.lamb[0])` for the 1st traj and `print(output.lamb[1])` for the 2nd and so on\n",
        "\n",
        "**`print(output.temp)`** It will print out all the values of temperature β with `print(output.beta[0])` for the 1st traj and `print(output.beta[1])` for the 2nd and so on\n",
        "\n",
        "**`data = list(output.data.values())`** makes the trajectories accessible. With **`print(data[i])`**, we access the ith trajectory"
      ],
      "metadata": {
        "id": "lq63eyhytNub"
      },
      "id": "lq63eyhytNub"
    },
    {
      "cell_type": "code",
      "source": [
        "param = {'extr_choice': 'site-1',\n",
        "         'Nsites': 8,   # number of sites\n",
        "        'systemType': 'FMO',   # system type\n",
        "         'methodType': 'LTLME',  # method (You need to provide the method used for trajectories propagation, otherwise will give you the wrong information)\n",
        "         'FMOtype': 'I',         # case I as explained above\n",
        "        'dataPath': 'QD3SET/fmo_data'\n",
        "        }\n",
        "data = qddset(**param) #  initializing parameters\n",
        "output = data.extract() # extracting the data\n",
        "traj = list(output.data.values()) # extract trajectories\n",
        "### Output ###\n",
        "print('Total number of trajectories = ', output.N_trajs)\n",
        "print('Calculation details = ', output.details)   \n",
        "print('Hamiltonian =' , output.H) \n",
        "print('Site with initial excitation = ', output.initial_site)           \n",
        "print('Cutoff frequencies = ', output.gamma)      \n",
        "print('System bath coupling strengths = ', output.lamb) \n",
        "print('Temperature =', output.temp) \n",
        "print('1st traj =', traj[0])  # print out the 1st trajectory, for other trajectories, you can use traj[1], traj[2],.... "
      ],
      "metadata": {
        "colab": {
          "base_uri": "https://localhost:8080/"
        },
        "id": "PrHMybvk1lO_",
        "outputId": "2fec82e7-ab3d-45fa-f5a2-b17580e0faed"
      },
      "id": "PrHMybvk1lO_",
      "execution_count": 6,
      "outputs": [
        {
          "output_type": "stream",
          "name": "stdout",
          "text": [
            "*****************************************\n",
            "QD3SET-1 contains trajectories propagated for reduced density matrix of spin-boson model and FMO complex. Two methods were used: Local-thermalizing Lindblad Equation of Motion (LTLME) and Hierarachical Equations of Motion (HEOM). For more details, please read our article \" Arif Ullah, Luis E. Herrera Rodriguez, Pavlo O. Dral, and Alexei A. Kananenka, QDDSET-1: A Quantum Dissipative Dynamics Dataset\" \n",
            " *******************************************\"\n",
            "Running with the extraction choice \" site-1 \"\n",
            "Extracting data for \" FMO \"\n",
            "Extracting data for \" LTLME \"\n",
            "Extracting data from \" QD3SET/fmo_data \" directory\n",
            "Extracting data for  8 sites FMO\n",
            "Extracting data for the  following FMO type \" I \"\n",
            "Total number of trajectories =  10\n",
            "Calculation details =  \n",
            " **************************************************************** \n",
            " Calculations were performed for 8-site FMO complex parametrized by Olbrich et. al. [J. Phys. Chem. B 115, 8609 (2011)]. To see the corresponding Hamiltonian, use the attribute, i.e,. output.H. Dynamics is propagated with the local thermalizing Lindblad master equation (LTLME) approach [J. Phys. Chem. Lett. 10, 7383-7390 (2019)] implemented in the quantum_HEOM package [https://github.com/jwa7/quantum_HEOM] with QuTip [https://qutip.org] in the backend. The basic quantum\\_HEOM package is restricted to 7-site FMO complex. In order to make it compatable for Hamiltonian with any dimension, we have made some local changes. In our calculations, the time-step for propagation was set to 5 fs and dynamics is propagated upto 50 ps.\n",
            "  The data and the corresponding parameters can be extracted as;  You can pass an extraction choice with keyword \"function(extr_choice: choice)\". The choice here is 'all', 'site-1', 'site-6', 'site-8' (in the case of 8-site FMO) or 'cal_details' which extracts data for the corresponding choice. The default choice is the 'cal_details' which provides details about the calculations. \n",
            " \n",
            " From the output of the function, you can access the data as: 'output.data' (for trajectories), 'output.N_trajs' (to see the total number of trajectories), 'output.initial_site' (to see the initial excited site), 'output.gamma' (to see the cutoff frequencies for all trajectories), 'output.lamb' (to see the system-bath coupling strengths for all trajectories) and the 'output.temp' (to see th temperature values for all trajectories).  \n",
            " \n",
            "  It is worth-emphasizing that 'output.data' is a dictionary and to extract the data, you can use 'xyz=list(output.data.values())', where 'xyz[i]' gives you the ith trajectory corresponding to the ith initial_site, gamma, lamb and  temp (all parameters are in cm^-1). For more details please read our article \n",
            " \" Arif Ullah, Luis E. Herrera Rodriguez, Pavlo O. Dral, and Alexei A. Kananenka, QD3SET-1: A Database woth Quantum Dissipative Dynamics Data sets https://doi.org/10.48550/arXiv.2301.12096\" \n",
            " ***************************************************************\n",
            "Hamiltonian = [[ 1.2505e+04 -8.0300e+01  3.5000e+00 -4.0000e+00  4.5000e+00 -1.0200e+01\n",
            "  -4.9000e+00  2.1000e+01]\n",
            " [-8.0300e+01  1.2425e+04  2.3500e+01  6.7000e+00  5.0000e-01  7.5000e+00\n",
            "   1.5000e+00  3.3000e+00]\n",
            " [ 3.5000e+00  2.3500e+01  1.2195e+04 -4.9800e+01 -1.5000e+00 -6.5000e+00\n",
            "   1.2000e+00  7.0000e-01]\n",
            " [-4.0000e+00  6.7000e+00 -4.9800e+01  1.2375e+04  6.3400e+01 -1.3300e+01\n",
            "  -4.2200e+01 -1.2000e+00]\n",
            " [ 4.5000e+00  5.0000e-01 -1.5000e+00  6.3400e+01  1.2600e+04  5.5800e+01\n",
            "   4.7000e+00  2.8000e+00]\n",
            " [-1.0200e+01  7.5000e+00 -6.5000e+00 -1.3300e+01  5.5800e+01  1.2515e+04\n",
            "   3.3000e+01 -7.3000e+00]\n",
            " [-4.9000e+00  1.5000e+00  1.2000e+00 -4.2200e+01  4.7000e+00  3.3000e+01\n",
            "   1.2465e+04 -8.7000e+00]\n",
            " [ 2.1000e+01  3.3000e+00  7.0000e-01 -1.2000e+00  2.8000e+00 -7.3000e+00\n",
            "  -8.7000e+00  1.2700e+04]]\n",
            "Site with initial excitation =  [1 1 1 1 1 1 1 1 1 1]\n",
            "Cutoff frequencies =  [250. 250. 250. 250. 275. 250.  25. 250. 275.  25.]\n",
            "System bath coupling strengths =  [130. 250. 370.  40. 100.  70. 520. 430. 100. 520.]\n",
            "Temperature = [410. 390. 270. 370. 290. 130. 370. 250. 190. 290.]\n",
            "1st traj = [[0.00000000e+00+0.00000000e+00j 1.00000000e+00+0.00000000e+00j\n",
            "  0.00000000e+00+0.00000000e+00j ... 0.00000000e+00+0.00000000e+00j\n",
            "  0.00000000e+00+0.00000000e+00j 0.00000000e+00+0.00000000e+00j]\n",
            " [5.00000000e+00+0.00000000e+00j 8.30452791e-01-3.61399137e-19j\n",
            "  5.00927225e-02-6.10001390e-02j ... 1.15971686e-03+7.00015744e-05j\n",
            "  1.16101129e-03+8.51733463e-05j 6.75263612e-03-5.70296551e-20j]\n",
            " [1.00000000e+01+0.00000000e+00j 6.90690827e-01+6.96597021e-19j\n",
            "  7.69316347e-02-9.74026679e-02j ... 1.72483782e-03+2.60036868e-04j\n",
            "  1.84891713e-03+2.95347311e-04j 1.30317689e-02+1.37007597e-19j]\n",
            " ...\n",
            " [4.99900000e+04+0.00000000e+00j 9.94936632e-02-1.43347023e-17j\n",
            "  3.14333243e-02+1.20907273e-16j ... 1.60423303e-03-1.66097045e-16j\n",
            "  2.16865602e-03-6.59158038e-17j 4.81436383e-02+5.13677906e-18j]\n",
            " [4.99950000e+04+0.00000000e+00j 9.94936632e-02-1.43390175e-17j\n",
            "  3.14333243e-02+1.20905903e-16j ... 1.60423303e-03-1.66097114e-16j\n",
            "  2.16865602e-03-6.59158983e-17j 4.81436383e-02+5.13651556e-18j]\n",
            " [5.00000000e+04+0.00000000e+00j 9.94936632e-02-1.43431840e-17j\n",
            "  3.14333243e-02+1.20904588e-16j ... 1.60423303e-03-1.66097182e-16j\n",
            "  2.16865602e-03-6.59159891e-17j 4.81436383e-02+5.13424368e-18j]]\n"
          ]
        }
      ]
    },
    {
      "cell_type": "markdown",
      "source": [
        "#### **Extract data from the trajectories with initial excitation on site-6** \n",
        "\n",
        "We need to provide `extr_choice : site-6`, and from the output, we can extract the corresponding data using the options we used for site-1 case.  "
      ],
      "metadata": {
        "id": "4LEWvJtT2zkF"
      },
      "id": "4LEWvJtT2zkF"
    },
    {
      "cell_type": "markdown",
      "source": [
        "#### **Extract data from the trajectories with initial excitation on site-8** \n",
        "\n",
        "We need to provide `extr_choice : site-8`, and from the output, we can extract the corresponding data using the options we used for site-1 case.  "
      ],
      "metadata": {
        "id": "bmmc8dDhAXNI"
      },
      "id": "bmmc8dDhAXNI"
    },
    {
      "cell_type": "markdown",
      "source": [
        "#### **Extract data from all trajectories with initial excitation**\n",
        "\n",
        "To extract data from all 30 trajectories, we provide `extr_choice : all`, and from the output, we can extract the corresponding data using the options we used for site-1 case."
      ],
      "metadata": {
        "id": "zwsxh8uJAgDA"
      },
      "id": "zwsxh8uJAgDA"
    }
  ],
  "metadata": {
    "kernelspec": {
      "display_name": "Python 3",
      "language": "python",
      "name": "python3"
    },
    "language_info": {
      "codemirror_mode": {
        "name": "ipython",
        "version": 3
      },
      "file_extension": ".py",
      "mimetype": "text/x-python",
      "name": "python",
      "nbconvert_exporter": "python",
      "pygments_lexer": "ipython3",
      "version": "3.9.15"
    },
    "colab": {
      "provenance": []
    }
  },
  "nbformat": 4,
  "nbformat_minor": 5
}