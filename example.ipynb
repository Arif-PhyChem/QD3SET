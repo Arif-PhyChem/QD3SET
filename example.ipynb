{
  "cells": [
    {
      "cell_type": "markdown",
      "id": "4de581f7",
      "metadata": {
        "id": "4de581f7"
      },
      "source": [
        "[![Open In Colab](https://colab.research.google.com/assets/colab-badge.svg)](\n",
        "https://colab.research.google.com/github/Arif-PhyChem/QD3SET/blob/main/example.ipynb)"
      ]
    },
    {
      "cell_type": "markdown",
      "source": [
        "# Import QD3SET extraction package from GitHub repo"
      ],
      "metadata": {
        "id": "uQw0zd_-HGhj"
      },
      "id": "uQw0zd_-HGhj"
    },
    {
      "cell_type": "code",
      "execution_count": 1,
      "id": "b738d395",
      "metadata": {
        "colab": {
          "base_uri": "https://localhost:8080/"
        },
        "id": "b738d395",
        "outputId": "3fbcdf02-5471-42e1-dd1f-493824739783"
      },
      "outputs": [
        {
          "output_type": "stream",
          "name": "stdout",
          "text": [
            "Cloning into 'QD3SET'...\n",
            "remote: Enumerating objects: 290, done.\u001b[K\n",
            "remote: Counting objects: 100% (3/3), done.\u001b[K\n",
            "remote: Compressing objects: 100% (3/3), done.\u001b[K\n",
            "remote: Total 290 (delta 0), reused 0 (delta 0), pack-reused 287\u001b[K\n",
            "Receiving objects: 100% (290/290), 105.42 MiB | 8.53 MiB/s, done.\n",
            "Resolving deltas: 100% (120/120), done.\n",
            "Updating files: 100% (77/77), done.\n"
          ]
        }
      ],
      "source": [
        "!git clone https://github.com/Arif-PhyChem/QD3SET.git    "
      ]
    },
    {
      "cell_type": "markdown",
      "source": [
        "**Check the folder**"
      ],
      "metadata": {
        "id": "eRzMIgDxHwBp"
      },
      "id": "eRzMIgDxHwBp"
    },
    {
      "cell_type": "code",
      "source": [
        "ls /content/QD3SET"
      ],
      "metadata": {
        "colab": {
          "base_uri": "https://localhost:8080/"
        },
        "id": "LEHX7d7uHoT9",
        "outputId": "17e77eb6-9079-42f7-9233-e5b45337da4f"
      },
      "id": "LEHX7d7uHoT9",
      "execution_count": 14,
      "outputs": [
        {
          "output_type": "stream",
          "name": "stdout",
          "text": [
            "cal_details.py  example.ipynb  \u001b[0m\u001b[01;34mfmo_data\u001b[0m/        methods.py    README.md\n",
            "dataset.py      example.py     hamiltonians.py  \u001b[01;34m__pycache__\u001b[0m/  \u001b[01;34msb_data\u001b[0m/\n"
          ]
        }
      ]
    },
    {
      "cell_type": "markdown",
      "source": [
        "## Change working Directory to QD3SET directory"
      ],
      "metadata": {
        "id": "QBIKys--G4j9"
      },
      "id": "QBIKys--G4j9"
    },
    {
      "cell_type": "code",
      "source": [
        "import os\n",
        "import sys\n",
        "\n",
        "QD3SET_DIR = os.getcwd() + '/QD3SET'\n",
        "if QD3SET_DIR not in sys.path:\n",
        "    sys.path.append(QD3SET_DIR)"
      ],
      "metadata": {
        "id": "u2zWqABEGVGr"
      },
      "id": "u2zWqABEGVGr",
      "execution_count": 2,
      "outputs": []
    },
    {
      "cell_type": "code",
      "execution_count": 3,
      "id": "5a1bf78c",
      "metadata": {
        "id": "5a1bf78c"
      },
      "outputs": [],
      "source": [
        "import numpy as np\n",
        "from dataset import qddset"
      ]
    },
    {
      "cell_type": "markdown",
      "id": "33a692cd",
      "metadata": {
        "id": "33a692cd"
      },
      "source": [
        "\n",
        "## **parameter details**\n",
        "\n",
        "\n",
        "**```extr_choice```:** str      type string \n",
        "\n",
        "**```methodType```:** str       type string\n",
        "\n",
        "**```FMOtype```:**  str         type string\n",
        "\n",
        "**```dataPath```:** str         type string\n",
        "\n",
        "**```Nsites```:** int           type integer\n",
        "\n",
        "\n",
        "### **```extr_choice``` (extraction choice):**\n",
        "We can pass multiple extraction choices. For instance, To extract data with site-1 as initial excitation, \n",
        "pass ```extr_choice = 'site-1'```. For extraction of site-6 data, \n",
        "pass ```extr_choice = 'site-6'``` and similarly for site-8 data pass ```'site-8'```. \n",
        "To extract all data, just pass ```extr_choice = 'all'```. The default choice is ```'cal_details'``` which \n",
        "only shows calculation details. For spin-boson model, ```extr_choices``` are ```'all', 'sym', 'asym', and 'cal_details'```.\n",
        "\n",
        "\n",
        "\n",
        "### **```systemType``` (system type):** \n",
        "\n",
        "Pass ```'SB'``` for spin-boson and ```'FMO'``` for FMO complex\n",
        "\n",
        "\n",
        "\n",
        "### **```methodType``` (method type):**\n",
        "\n",
        "Pass ```'HEOM'``` or ```'LTLME'``` for the extraction of the corresponding data\n",
        "\n",
        "\n",
        "\n",
        "\n",
        "### **```FMOtype``` (Type of FMO):**\n",
        "\n",
        "In our database, in the case of 7-site and 8-site FMO, we have generated LTLME data with two different Hamiltonians. Here we represent them as **I** and **II** (check the paper).\n",
        "\n",
        "\n",
        "\n",
        "### **```dataPath``` (path to data directory):**\n",
        "\n",
        "pass the data path to the concerend data set\n",
        "\n",
        "\n",
        "\n",
        "### **```Nsites``` (number of sites in FMO case):**\n",
        "\n",
        "it can be 7, 8, or 24 (for trimer)\n"
      ]
    },
    {
      "cell_type": "markdown",
      "id": "636cdfe4",
      "metadata": {
        "id": "636cdfe4"
      },
      "source": [
        "## **Extract the corresponding calculation details for spin-boson data set** \n",
        "\n",
        "**For the sake of demonstration, we are providing 40 trajectories in ```sb_data``` folder from our spin-boson data set of our QD3SET-1 database. 20 of these trajectories are for symmetric case and 20 for asymmetric case.** If we provide `extr_choice : cal_details`, we only get the corresponding calculation details and Hamiltonian\n",
        "\n",
        "**`print(output.details` and `output.H)`** "
      ]
    },
    {
      "cell_type": "code",
      "source": [
        "param = {'extr_choice': 'cal_details',\n",
        "        'systemType': 'SB',\n",
        "         'methodType': 'HEOM',\n",
        "        'dataPath': 'QD3SET/sb_data'\n",
        "        }\n",
        "data = qddset(**param) #  initializing parameters\n",
        "output = data.extract() # extracting the data\n",
        "\n",
        "### Output ###\n",
        "\n",
        "print('Calculation details = ', output.details)   # print out the calculation details\n",
        "print('Hamiltonian =' , output.H)         # print out the Hamiltonian \n"
      ],
      "metadata": {
        "colab": {
          "base_uri": "https://localhost:8080/"
        },
        "id": "6d_NfLVyjt5L",
        "outputId": "45529de4-8d93-4269-d883-dbf213ff237d"
      },
      "id": "6d_NfLVyjt5L",
      "execution_count": 55,
      "outputs": [
        {
          "output_type": "stream",
          "name": "stdout",
          "text": [
            "*****************************************\n",
            "QDDSET-1 contains trajectories propagated for reduced density matrix of spin-boson model and FMO complex. Two methods were used: Local-thermalizing Lindblad Equation of Motion (LTLME) and Hierarachical Equations of Motion (HEOM). For more details, please read our article \" Arif Ullah, Luis E. Herrera Rodriguez, Pavlo O. Dral, and Alexei A. Kananenka, QDDSET-1: A Quantum Dissipative Dynamics Dataset\" \n",
            " *******************************************\"\n",
            "Running with the extraction choice \" cal_details \"\n",
            "Extracting data for \" SB \"\n",
            "Extracting data for \" HEOM \"\n",
            "Extracting data from \" QD3SET/sb_data \" directory\n",
            "Calculation details =   \n",
            " ****************************************************************\n",
            "  In the spin-boson calculations, we consider both symmetric and asymmetric cases and for each case, we generate 500 trajectories. The data is generated with the HEOM method implemented in the QuTip package (v.2.6)  [https://qutip.org/]. The hierarchy depth 'L' was set 30 and the number of Mastsubara terms 'K'  was changed with temperature, i,e., beta = 0.1 K = 2, beta = 0.25 K = 3, beta = 0.5 K = 3, beta = 0.75 K = 4, beta = 1.0 K = 5. The time-step for propagation was set to dt = 0.05 and values were recorded for each dt = 0.1. In spin-boson model, the Hamiltonian is written as \n",
            " H = [epsilon,  Delta \n",
            "     Delta*,  0] \n",
            ". For symmetric case, epsilon is 0 and we set it to 1 for asymmetric case. For both cases, Delta is 1. \n",
            " From the database, the data and the corresponding parameters can be extracted as;  You can pass an extraction choice with keyword \"function(extr_choice: choice)\". The choice here is 'all', 'sym', 'asym' or 'cal_details' which extracts data for the corresponding choice. The default choice is the 'cal_details' which provides details about the calculations. \n",
            " \n",
            "  From the output of the function, you can access the data as: 'output.data' (for trajectories), 'output.N_trajs' (total number of trajectories), 'output.epsilon' (energy difference between the two states), 'output.Delta' (interaction strength between the two states)  ,'output.gamma' (the cutoff frequencies for all trajectories), 'output.lamb' (the system-bath coupling strengths for all trajectories) and the 'output.beta' (inverse temperature values for all trajectories).\n",
            " \n",
            "  It is worth-emphasizing that 'output.data' is a dictionary and to extract the data, you can use 'xyz=list(output.data.values())', where 'xyz[i]' gives you the ith trajectory corresponding to the ith value in the epsilon, Delta, gamma ,lamb and  temp (all parameters are in atomic units). For more details please read our article \n",
            " \" Arif Ullah, Luis E. Herrera Rodriguez, Pavlo O. Dral, and Alexei A. Kananenka, QD3SET-1: A Database woth Quantum Dissipative Dynamics Data sets https://doi.org/10.48550/arXiv.2301.12096\" \n",
            " ***************************************************************\n",
            "Hamiltonian = ['epsilon', 'Delta', 'Delta*', '0']\n"
          ]
        }
      ]
    },
    {
      "cell_type": "markdown",
      "source": [
        "## **Extracting data for the symmetric spin-boson data set** \n",
        "\n",
        "We provide `extr_choice : sym`, and from the output, we can extract the corresponding data using the following options \n",
        "\n",
        "**`print(output.details)`** for calculation details\n",
        "\n",
        "**`print(output.H)`** for Hamiltonian  H\n",
        "\n",
        "**`print(output.N_trajs)`** to see the number of trajectories\n",
        "\n",
        "**`print(output.gamma)`** It will print out all the values of gamma γ (cutoff frequencies of bath) with `print(output.gamma[0])` for the 1st traj and `print(output.gamma[1])` for the 2nd and so on\n",
        "\n",
        "**`print(output.lamb)`** It will print out all the values of lambda λ (system bath coupling strength) with `print(output.lamb[0])` for the 1st traj and `print(output.lamb[1])` for the 2nd and so on\n",
        "\n",
        "**`print(output.beta)`** It will print out all the values of inverse temperature β with `print(output.beta[0])` for the 1st traj and `print(output.beta[1])` for the 2nd and so on\n",
        "\n",
        "**`print(output.epsilon)`** It will print out all the values of energy difference between two states ϵ with `print(output.epsilon0])` for the 1st traj and `print(output.epsilon[1])` for the 2nd and so on\n",
        "\n",
        "**`print(output.Delta)`**  It will print out all the values of tunneling matrix element Δ, with `print(output.Delta[0])` for the 1st traj and `print(output.Delta[1])` for the 2nd and so on \n",
        "\n",
        "**`data = list(output.data.values())`** makes the trajectories accessible. With **`print(data[i])`**, we access the ith trajectory"
      ],
      "metadata": {
        "id": "429Q2sNmkiUd"
      },
      "id": "429Q2sNmkiUd"
    },
    {
      "cell_type": "code",
      "execution_count": 64,
      "id": "3e5c41ab",
      "metadata": {
        "colab": {
          "base_uri": "https://localhost:8080/"
        },
        "id": "3e5c41ab",
        "outputId": "143a5302-91ea-40ca-b664-0af2073b24bf"
      },
      "outputs": [
        {
          "output_type": "stream",
          "name": "stdout",
          "text": [
            "*****************************************\n",
            "QDDSET-1 contains trajectories propagated for reduced density matrix of spin-boson model and FMO complex. Two methods were used: Local-thermalizing Lindblad Equation of Motion (LTLME) and Hierarachical Equations of Motion (HEOM). For more details, please read our article \" Arif Ullah, Luis E. Herrera Rodriguez, Pavlo O. Dral, and Alexei A. Kananenka, QDDSET-1: A Quantum Dissipative Dynamics Dataset\" \n",
            " *******************************************\"\n",
            "Running with the extraction choice \" sym \"\n",
            "Extracting data for \" SB \"\n",
            "Extracting data for \" HEOM \"\n",
            "Extracting data from \" QD3SET/sb_data \" directory\n",
            "Total number of trajectories =  20\n",
            "Calculation details =   \n",
            " ****************************************************************\n",
            "  In the spin-boson calculations, we consider both symmetric and asymmetric cases and for each case, we generate 500 trajectories. The data is generated with the HEOM method implemented in the QuTip package (v.2.6)  [https://qutip.org/]. The hierarchy depth 'L' was set 30 and the number of Mastsubara terms 'K'  was changed with temperature, i,e., beta = 0.1 K = 2, beta = 0.25 K = 3, beta = 0.5 K = 3, beta = 0.75 K = 4, beta = 1.0 K = 5. The time-step for propagation was set to dt = 0.05 and values were recorded for each dt = 0.1. In spin-boson model, the Hamiltonian is written as \n",
            " H = [epsilon,  Delta \n",
            "     Delta*,  0] \n",
            ". For symmetric case, epsilon is 0 and we set it to 1 for asymmetric case. For both cases, Delta is 1. \n",
            " From the database, the data and the corresponding parameters can be extracted as;  You can pass an extraction choice with keyword \"function(extr_choice: choice)\". The choice here is 'all', 'sym', 'asym' or 'cal_details' which extracts data for the corresponding choice. The default choice is the 'cal_details' which provides details about the calculations. \n",
            " \n",
            "  From the output of the function, you can access the data as: 'output.data' (for trajectories), 'output.N_trajs' (total number of trajectories), 'output.epsilon' (energy difference between the two states), 'output.Delta' (interaction strength between the two states)  ,'output.gamma' (the cutoff frequencies for all trajectories), 'output.lamb' (the system-bath coupling strengths for all trajectories) and the 'output.beta' (inverse temperature values for all trajectories).\n",
            " \n",
            "  It is worth-emphasizing that 'output.data' is a dictionary and to extract the data, you can use 'xyz=list(output.data.values())', where 'xyz[i]' gives you the ith trajectory corresponding to the ith value in the epsilon, Delta, gamma ,lamb and  temp (all parameters are in atomic units). For more details please read our article \n",
            " \" Arif Ullah, Luis E. Herrera Rodriguez, Pavlo O. Dral, and Alexei A. Kananenka, QD3SET-1: A Database woth Quantum Dissipative Dynamics Data sets https://doi.org/10.48550/arXiv.2301.12096\" \n",
            " ***************************************************************\n",
            "Hamiltonian = ['epsilon', 'Delta', 'Delta*', '0']\n",
            "Cutoff frequencies =  2.0\n",
            "System bath coupling strengths =  [0.1 0.1 0.1 0.1 0.1 0.1 0.1 0.1 0.1 0.1 0.1 0.1 0.1 0.1 0.1 0.1 0.1 0.1\n",
            " 0.1 0.1]\n",
            "Inverse temperature = [0.5  0.1  0.75 0.25 0.5  0.1  1.   0.5  0.25 1.   1.   0.25 0.75 0.25\n",
            " 0.5  1.   0.75 0.1  0.1  0.75]\n",
            "Energy difference = [0. 0. 0. 0. 0. 0. 0. 0. 0. 0. 0. 0. 0. 0. 0. 0. 0. 0. 0. 0.]\n",
            "Tunneling matrix element = [1. 1. 1. 1. 1. 1. 1. 1. 1. 1. 1. 1. 1. 1. 1. 1. 1. 1. 1. 1.]\n",
            "1st traj = [[ 0.00000000e+00+0.j          1.00000000e+00+0.j\n",
            "   0.00000000e+00+0.j          0.00000000e+00+0.j\n",
            "   0.00000000e+00+0.j        ]\n",
            " [ 5.00000000e-02+0.j          9.97503852e-01+0.j\n",
            "  -1.58285408e-05+0.04985368j -1.58285408e-05-0.04985368j\n",
            "   2.49614791e-03+0.j        ]\n",
            " [ 1.00000000e-01+0.j          9.90055099e-01+0.j\n",
            "  -1.20079902e-04+0.0989347j  -1.20079902e-04-0.0989347j\n",
            "   9.94490066e-03+0.j        ]\n",
            " ...\n",
            " [ 1.99000000e+01+0.j          5.01292987e-01+0.j\n",
            "  -2.24719551e-01-0.0042771j  -2.24719551e-01+0.0042771j\n",
            "   4.98707013e-01+0.j        ]\n",
            " [ 1.99500000e+01+0.j          5.01706940e-01+0.j\n",
            "  -2.24722613e-01-0.00400271j -2.24722613e-01+0.00400271j\n",
            "   4.98293060e-01+0.j        ]\n",
            " [ 2.00000000e+01+0.j          5.02091420e-01+0.j\n",
            "  -2.24725619e-01-0.00368834j -2.24725619e-01+0.00368834j\n",
            "   4.97908580e-01+0.j        ]]\n"
          ]
        }
      ],
      "source": [
        "param = {'extr_choice': 'sym',\n",
        "        'systemType': 'SB',\n",
        "         'methodType': 'HEOM',\n",
        "        'dataPath': 'QD3SET/sb_data'\n",
        "        }\n",
        "data = qddset(**param) #  initializing parameters\n",
        "output = data.extract() # extracting the data\n",
        "traj = list(output.data.values()) # extract trajectories\n",
        "### Output ###\n",
        "print('Total number of trajectories = ', output.N_trajs)\n",
        "print('Calculation details = ', output.details)   \n",
        "print('Hamiltonian =' , output.H)         \n",
        "print('Cutoff frequencies = ', output.gamma)      \n",
        "print('System bath coupling strengths = ', output.lamb) \n",
        "print('Inverse temperature =', output.beta) \n",
        "print('Energy difference =', output.epsilon) \n",
        "print('Tunneling matrix element =', output.Delta)  \n",
        "print('1st traj =', traj[0])  # print out the 1st trajectory"
      ]
    },
    {
      "cell_type": "markdown",
      "source": [
        "\n",
        "## **Extracting data for the asymmetric spin-boson data set** \n",
        "\n",
        "We provide `extr_choice : asym`, and from the output, we can extract the corresponding data using the options we used for symmetric case \n"
      ],
      "metadata": {
        "id": "dmDI5VqIgWQ6"
      },
      "id": "dmDI5VqIgWQ6"
    },
    {
      "cell_type": "code",
      "execution_count": 66,
      "metadata": {
        "colab": {
          "base_uri": "https://localhost:8080/"
        },
        "outputId": "ff705f66-9363-47e3-bd24-6597a3e825ff",
        "id": "E2vtGp9as521"
      },
      "outputs": [
        {
          "output_type": "stream",
          "name": "stdout",
          "text": [
            "*****************************************\n",
            "QDDSET-1 contains trajectories propagated for reduced density matrix of spin-boson model and FMO complex. Two methods were used: Local-thermalizing Lindblad Equation of Motion (LTLME) and Hierarachical Equations of Motion (HEOM). For more details, please read our article \" Arif Ullah, Luis E. Herrera Rodriguez, Pavlo O. Dral, and Alexei A. Kananenka, QDDSET-1: A Quantum Dissipative Dynamics Dataset\" \n",
            " *******************************************\"\n",
            "Running with the extraction choice \" asym \"\n",
            "Extracting data for \" SB \"\n",
            "Extracting data for \" HEOM \"\n",
            "Extracting data from \" QD3SET/sb_data \" directory\n",
            "Total number of trajectories =  20\n",
            "Calculation details =   \n",
            " ****************************************************************\n",
            "  In the spin-boson calculations, we consider both symmetric and asymmetric cases and for each case, we generate 500 trajectories. The data is generated with the HEOM method implemented in the QuTip package (v.2.6)  [https://qutip.org/]. The hierarchy depth 'L' was set 30 and the number of Mastsubara terms 'K'  was changed with temperature, i,e., beta = 0.1 K = 2, beta = 0.25 K = 3, beta = 0.5 K = 3, beta = 0.75 K = 4, beta = 1.0 K = 5. The time-step for propagation was set to dt = 0.05 and values were recorded for each dt = 0.1. In spin-boson model, the Hamiltonian is written as \n",
            " H = [epsilon,  Delta \n",
            "     Delta*,  0] \n",
            ". For symmetric case, epsilon is 0 and we set it to 1 for asymmetric case. For both cases, Delta is 1. \n",
            " From the database, the data and the corresponding parameters can be extracted as;  You can pass an extraction choice with keyword \"function(extr_choice: choice)\". The choice here is 'all', 'sym', 'asym' or 'cal_details' which extracts data for the corresponding choice. The default choice is the 'cal_details' which provides details about the calculations. \n",
            " \n",
            "  From the output of the function, you can access the data as: 'output.data' (for trajectories), 'output.N_trajs' (total number of trajectories), 'output.epsilon' (energy difference between the two states), 'output.Delta' (interaction strength between the two states)  ,'output.gamma' (the cutoff frequencies for all trajectories), 'output.lamb' (the system-bath coupling strengths for all trajectories) and the 'output.beta' (inverse temperature values for all trajectories).\n",
            " \n",
            "  It is worth-emphasizing that 'output.data' is a dictionary and to extract the data, you can use 'xyz=list(output.data.values())', where 'xyz[i]' gives you the ith trajectory corresponding to the ith value in the epsilon, Delta, gamma ,lamb and  temp (all parameters are in atomic units). For more details please read our article \n",
            " \" Arif Ullah, Luis E. Herrera Rodriguez, Pavlo O. Dral, and Alexei A. Kananenka, QD3SET-1: A Database woth Quantum Dissipative Dynamics Data sets https://doi.org/10.48550/arXiv.2301.12096\" \n",
            " ***************************************************************\n",
            "Hamiltonian = ['epsilon', 'Delta', 'Delta*', '0']\n",
            "Cutoff frequencies =  [10.  7.  8.  7.  3.  2.  6.  4. 10.  5.  3.  4.  3.  9.  9.  9.  5.  6.\n",
            "  5.  6.]\n",
            "System bath coupling strengths =  [0.7 0.6 1.  0.9 0.6 0.6 0.5 0.6 0.3 0.6 0.9 0.6 1.  0.9 0.6 0.6 0.6 0.9\n",
            " 0.9 0.6]\n",
            "Inverse temperature = [0.5  1.   0.1  1.   0.75 0.75 0.1  0.1  1.   0.25 1.   1.   0.1  0.75\n",
            " 0.25 0.5  1.   1.   0.25 1.  ]\n",
            "Energy difference = [1. 1. 1. 1. 1. 1. 1. 1. 1. 1. 1. 1. 1. 1. 1. 1. 1. 1. 1. 1.]\n",
            "Tunneling matrix element = [1. 1. 1. 1. 1. 1. 1. 1. 1. 1. 1. 1. 1. 1. 1. 1. 1. 1. 1. 1.]\n",
            "1st traj = [[ 0.00000000e+00+0.00000000e+00j  1.00000000e+00+0.00000000e+00j\n",
            "   0.00000000e+00+0.00000000e+00j  0.00000000e+00+0.00000000e+00j\n",
            "   0.00000000e+00+0.00000000e+00j]\n",
            " [ 5.00000000e-02+0.00000000e+00j  9.97536515e-01+0.00000000e+00j\n",
            "   1.97657263e-03+4.88049766e-02j  1.97657263e-03-4.88049766e-02j\n",
            "   2.46348493e-03+0.00000000e+00j]\n",
            " [ 1.00000000e-01+0.00000000e+00j  9.90358000e-01+0.00000000e+00j\n",
            "   6.51924026e-03+9.40871947e-02j  6.51924026e-03-9.40871947e-02j\n",
            "   9.64200017e-03+0.00000000e+00j]\n",
            " ...\n",
            " [ 1.99000000e+01+0.00000000e+00j  2.82549262e-01+0.00000000e+00j\n",
            "  -1.86002769e-01+2.05788771e-06j -1.86002769e-01-2.05788771e-06j\n",
            "   7.17450738e-01+0.00000000e+00j]\n",
            " [ 1.99500000e+01+0.00000000e+00j  2.82549059e-01+0.00000000e+00j\n",
            "  -1.86002943e-01+2.00002693e-06j -1.86002943e-01-2.00002693e-06j\n",
            "   7.17450941e-01+0.00000000e+00j]\n",
            " [ 2.00000000e+01+0.00000000e+00j  2.82548862e-01+0.00000000e+00j\n",
            "  -1.86003112e-01+1.94383560e-06j -1.86003112e-01-1.94383560e-06j\n",
            "   7.17451138e-01+0.00000000e+00j]]\n"
          ]
        }
      ],
      "source": [
        "param = {'extr_choice': 'asym',\n",
        "        'systemType': 'SB',\n",
        "         'methodType': 'HEOM',\n",
        "        'dataPath': 'QD3SET/sb_data'\n",
        "        }\n",
        "data = qddset(**param) #  initializing parameters\n",
        "output = data.extract() # extracting the data\n",
        "traj = list(output.data.values()) # extract trajectories\n",
        "### Output ###\n",
        "print('Total number of trajectories = ', output.N_trajs)\n",
        "print('Calculation details = ', output.details)   \n",
        "print('Hamiltonian =' , output.H)         \n",
        "print('Cutoff frequencies = ', output.gamma)      \n",
        "print('System bath coupling strengths = ', output.lamb) \n",
        "print('Inverse temperature =', output.beta) \n",
        "print('Energy difference =', output.epsilon) \n",
        "print('Tunneling matrix element =', output.Delta)  \n",
        "print('1st traj =', traj[0])  # print out the 1st trajectory"
      ],
      "id": "E2vtGp9as521"
    },
    {
      "cell_type": "markdown",
      "source": [
        "## **Extracting data all spin-boson data set** \n",
        "\n",
        "We provide `extr_choice : all`, and from the output, we can extract the corresponding data using the options we used for symmetric and asymmetric cases "
      ],
      "metadata": {
        "id": "CZ9QZt1IzPJX"
      },
      "id": "CZ9QZt1IzPJX"
    },
    {
      "cell_type": "code",
      "source": [
        "param = {'extr_choice': 'all',\n",
        "        'systemType': 'SB',\n",
        "         'methodType': 'HEOM',\n",
        "        'dataPath': 'QD3SET/sb_data'\n",
        "        }\n",
        "data = qddset(**param) #  initializing parameters\n",
        "output = data.extract() # extracting the data\n",
        "traj = list(output.data.values()) # extract trajectories\n",
        "### Output ###\n",
        "print('Total number of trajectories = ', output.N_trajs)\n",
        "print('Calculation details = ', output.details)   \n",
        "print('Hamiltonian =' , output.H)         \n",
        "print('Cutoff frequencies = ', output.gamma)      \n",
        "print('System bath coupling strengths = ', output.lamb) \n",
        "print('Inverse temperature =', output.beta) \n",
        "print('Energy difference =', output.epsilon) \n",
        "print('Tunneling matrix element =', output.Delta)  \n",
        "print('1st traj =', traj[0])  # print out the 1st trajectory"
      ],
      "metadata": {
        "colab": {
          "base_uri": "https://localhost:8080/"
        },
        "id": "TFJxDB2bzHGU",
        "outputId": "dc7b9abb-98c1-490e-a911-52ae109daa3f"
      },
      "id": "TFJxDB2bzHGU",
      "execution_count": 69,
      "outputs": [
        {
          "output_type": "stream",
          "name": "stdout",
          "text": [
            "*****************************************\n",
            "QDDSET-1 contains trajectories propagated for reduced density matrix of spin-boson model and FMO complex. Two methods were used: Local-thermalizing Lindblad Equation of Motion (LTLME) and Hierarachical Equations of Motion (HEOM). For more details, please read our article \" Arif Ullah, Luis E. Herrera Rodriguez, Pavlo O. Dral, and Alexei A. Kananenka, QDDSET-1: A Quantum Dissipative Dynamics Dataset\" \n",
            " *******************************************\"\n",
            "Running with the extraction choice \" all \"\n",
            "Extracting data for \" SB \"\n",
            "Extracting data for \" HEOM \"\n",
            "Extracting data from \" QD3SET/sb_data \" directory\n",
            "Total number of trajectories =  40\n",
            "Calculation details =   \n",
            " ****************************************************************\n",
            "  In the spin-boson calculations, we consider both symmetric and asymmetric cases and for each case, we generate 500 trajectories. The data is generated with the HEOM method implemented in the QuTip package (v.2.6)  [https://qutip.org/]. The hierarchy depth 'L' was set 30 and the number of Mastsubara terms 'K'  was changed with temperature, i,e., beta = 0.1 K = 2, beta = 0.25 K = 3, beta = 0.5 K = 3, beta = 0.75 K = 4, beta = 1.0 K = 5. The time-step for propagation was set to dt = 0.05 and values were recorded for each dt = 0.1. In spin-boson model, the Hamiltonian is written as \n",
            " H = [epsilon,  Delta \n",
            "     Delta*,  0] \n",
            ". For symmetric case, epsilon is 0 and we set it to 1 for asymmetric case. For both cases, Delta is 1. \n",
            " From the database, the data and the corresponding parameters can be extracted as;  You can pass an extraction choice with keyword \"function(extr_choice: choice)\". The choice here is 'all', 'sym', 'asym' or 'cal_details' which extracts data for the corresponding choice. The default choice is the 'cal_details' which provides details about the calculations. \n",
            " \n",
            "  From the output of the function, you can access the data as: 'output.data' (for trajectories), 'output.N_trajs' (total number of trajectories), 'output.epsilon' (energy difference between the two states), 'output.Delta' (interaction strength between the two states)  ,'output.gamma' (the cutoff frequencies for all trajectories), 'output.lamb' (the system-bath coupling strengths for all trajectories) and the 'output.beta' (inverse temperature values for all trajectories).\n",
            " \n",
            "  It is worth-emphasizing that 'output.data' is a dictionary and to extract the data, you can use 'xyz=list(output.data.values())', where 'xyz[i]' gives you the ith trajectory corresponding to the ith value in the epsilon, Delta, gamma ,lamb and  temp (all parameters are in atomic units). For more details please read our article \n",
            " \" Arif Ullah, Luis E. Herrera Rodriguez, Pavlo O. Dral, and Alexei A. Kananenka, QD3SET-1: A Database woth Quantum Dissipative Dynamics Data sets https://doi.org/10.48550/arXiv.2301.12096\" \n",
            " ***************************************************************\n",
            "Hamiltonian = ['epsilon', 'Delta', 'Delta*', '0']\n",
            "Cutoff frequencies =  [ 2. 10.  7.  3.  3.  3.  8. 10.  7.  2.  3.  2.  6. 10.  1.  4. 10.  3.\n",
            "  1. 10.  2. 10.  1.  3.  5.  3.  4.  2.  3.  2.  1.  9.  9.  9.  5.  6.\n",
            "  5. 10.  6.  1.]\n",
            "System bath coupling strengths =  [0.1 0.7 0.6 0.1 0.1 0.1 1.  0.1 0.9 0.1 0.6 0.6 0.5 0.1 0.1 0.6 0.1 0.1\n",
            " 0.1 0.3 0.1 0.1 0.1 0.1 0.6 0.9 0.6 0.1 1.  0.1 0.1 0.9 0.6 0.6 0.6 0.9\n",
            " 0.9 0.1 0.6 0.1]\n",
            "Inverse temperature = [0.5  0.5  1.   0.1  0.75 0.25 0.1  0.5  1.   0.1  0.75 0.75 0.1  1.\n",
            " 0.5  0.1  0.25 1.   1.   1.   0.25 0.75 0.25 0.5  0.25 1.   1.   1.\n",
            " 0.1  0.75 0.1  0.75 0.25 0.5  1.   1.   0.25 0.1  1.   0.75]\n",
            "Energy difference = [0. 1. 1. 0. 0. 0. 1. 0. 1. 0. 1. 1. 1. 0. 0. 1. 0. 0. 0. 1. 0. 0. 0. 0.\n",
            " 1. 1. 1. 0. 1. 0. 0. 1. 1. 1. 1. 1. 1. 0. 1. 0.]\n",
            "Tunneling matrix element = [1. 1. 1. 1. 1. 1. 1. 1. 1. 1. 1. 1. 1. 1. 1. 1. 1. 1. 1. 1. 1. 1. 1. 1.\n",
            " 1. 1. 1. 1. 1. 1. 1. 1. 1. 1. 1. 1. 1. 1. 1. 1.]\n",
            "1st traj = [[ 0.00000000e+00+0.j          1.00000000e+00+0.j\n",
            "   0.00000000e+00+0.j          0.00000000e+00+0.j\n",
            "   0.00000000e+00+0.j        ]\n",
            " [ 5.00000000e-02+0.j          9.97503852e-01+0.j\n",
            "  -1.58285408e-05+0.04985368j -1.58285408e-05-0.04985368j\n",
            "   2.49614791e-03+0.j        ]\n",
            " [ 1.00000000e-01+0.j          9.90055099e-01+0.j\n",
            "  -1.20079902e-04+0.0989347j  -1.20079902e-04-0.0989347j\n",
            "   9.94490066e-03+0.j        ]\n",
            " ...\n",
            " [ 1.99000000e+01+0.j          5.01292987e-01+0.j\n",
            "  -2.24719551e-01-0.0042771j  -2.24719551e-01+0.0042771j\n",
            "   4.98707013e-01+0.j        ]\n",
            " [ 1.99500000e+01+0.j          5.01706940e-01+0.j\n",
            "  -2.24722613e-01-0.00400271j -2.24722613e-01+0.00400271j\n",
            "   4.98293060e-01+0.j        ]\n",
            " [ 2.00000000e+01+0.j          5.02091420e-01+0.j\n",
            "  -2.24725619e-01-0.00368834j -2.24725619e-01+0.00368834j\n",
            "   4.97908580e-01+0.j        ]]\n"
          ]
        }
      ]
    },
    {
      "cell_type": "markdown",
      "source": [
        "# **Extract the corresponding calculation details and Hamiltonian for FMO dataset**\n",
        "For the sake of demonstration, we are providing 30 trajectories (10 trajectories for each case with initial excitation, sites-1, 6 and 8) in `fmo_data` folder for 8-site FMO complex from our FMO-IV data set of our QD3SET-1 database. The data was generated with the local-thermalizing Lindblad equation of motion (**`LTLME`**). In our database, in the case of 7-site and 8-site FMO, we have generated LTLME data with two different Hamiltonian. Here we represent and pass them as **`FMOtype: 'I'`** and **`FMOtype: 'II'`**. The trajectories we have provided here are from data set represented by **`I`**.  If we provide extr_choice : cal_details, we can get the corresponding calculation details and Hamiltonian\n",
        "\n",
        "**`print(output.details and output.H)`**"
      ],
      "metadata": {
        "id": "gBUuGtv7wVgh"
      },
      "id": "gBUuGtv7wVgh"
    },
    {
      "cell_type": "code",
      "source": [
        "param = {'extr_choice': 'cal_details',\n",
        "         'Nsites': 8,   # number of sites\n",
        "        'systemType': 'FMO',   # system type\n",
        "         'methodType': 'LTLME',  # method\n",
        "         'FMOtype': 'I',\n",
        "        'dataPath': 'QD3SET/fmo_data'\n",
        "        }\n",
        "data = qddset(**param) #  initializing parameters\n",
        "output = data.extract() # extracting the data\n",
        "\n",
        "### Output ###\n",
        "\n",
        "print('Hamiltonian = ', output.H)\n",
        "print('Calculation details = ', output.details)   "
      ],
      "metadata": {
        "colab": {
          "base_uri": "https://localhost:8080/"
        },
        "id": "cdNxAvwYtlX1",
        "outputId": "aac0d777-f967-4a2e-f590-fd7c4486ad65"
      },
      "id": "cdNxAvwYtlX1",
      "execution_count": 70,
      "outputs": [
        {
          "output_type": "stream",
          "name": "stdout",
          "text": [
            "*****************************************\n",
            "QDDSET-1 contains trajectories propagated for reduced density matrix of spin-boson model and FMO complex. Two methods were used: Local-thermalizing Lindblad Equation of Motion (LTLME) and Hierarachical Equations of Motion (HEOM). For more details, please read our article \" Arif Ullah, Luis E. Herrera Rodriguez, Pavlo O. Dral, and Alexei A. Kananenka, QDDSET-1: A Quantum Dissipative Dynamics Dataset\" \n",
            " *******************************************\"\n",
            "Running with the extraction choice \" cal_details \"\n",
            "Extracting data for \" FMO \"\n",
            "Extracting data for \" LTLME \"\n",
            "Extracting data from \" QD3SET/fmo_data \" directory\n",
            "Extracting data for  8 sites FMO\n",
            "Extracting data for the  following FMO type \" I \"\n",
            "Hamiltonian =  [[ 1.2505e+04 -8.0300e+01  3.5000e+00 -4.0000e+00  4.5000e+00 -1.0200e+01\n",
            "  -4.9000e+00  2.1000e+01]\n",
            " [-8.0300e+01  1.2425e+04  2.3500e+01  6.7000e+00  5.0000e-01  7.5000e+00\n",
            "   1.5000e+00  3.3000e+00]\n",
            " [ 3.5000e+00  2.3500e+01  1.2195e+04 -4.9800e+01 -1.5000e+00 -6.5000e+00\n",
            "   1.2000e+00  7.0000e-01]\n",
            " [-4.0000e+00  6.7000e+00 -4.9800e+01  1.2375e+04  6.3400e+01 -1.3300e+01\n",
            "  -4.2200e+01 -1.2000e+00]\n",
            " [ 4.5000e+00  5.0000e-01 -1.5000e+00  6.3400e+01  1.2600e+04  5.5800e+01\n",
            "   4.7000e+00  2.8000e+00]\n",
            " [-1.0200e+01  7.5000e+00 -6.5000e+00 -1.3300e+01  5.5800e+01  1.2515e+04\n",
            "   3.3000e+01 -7.3000e+00]\n",
            " [-4.9000e+00  1.5000e+00  1.2000e+00 -4.2200e+01  4.7000e+00  3.3000e+01\n",
            "   1.2465e+04 -8.7000e+00]\n",
            " [ 2.1000e+01  3.3000e+00  7.0000e-01 -1.2000e+00  2.8000e+00 -7.3000e+00\n",
            "  -8.7000e+00  1.2700e+04]]\n",
            "Calculation details =  \n",
            " **************************************************************** \n",
            " Calculations were performed for 8-site FMO complex parametrized by Olbrich et. al. [J. Phys. Chem. B 115, 8609 (2011)]. To see the corresponding Hamiltonian, use the attribute, i.e,. output.H. Dynamics is propagated with the local thermalizing Lindblad master equation (LTLME) approach [J. Phys. Chem. Lett. 10, 7383-7390 (2019)] implemented in the quantum_HEOM package [https://github.com/jwa7/quantum_HEOM] with QuTip [https://qutip.org] in the backend. The basic quantum\\_HEOM package is restricted to 7-site FMO complex. In order to make it compatable for Hamiltonian with any dimension, we have made some local changes. In our calculations, the time-step for propagation was set to 5 fs and dynamics is propagated upto 50 ps.\n",
            "  The data and the corresponding parameters can be extracted as;  You can pass an extraction choice with keyword \"function(extr_choice: choice)\". The choice here is 'all', 'site-1', 'site-6', 'site-8' (in the case of 8-site FMO) or 'cal_details' which extracts data for the corresponding choice. The default choice is the 'cal_details' which provides details about the calculations. \n",
            " \n",
            " From the output of the function, you can access the data as: 'output.data' (for trajectories), 'output.N_trajs' (to see the total number of trajectories), 'output.initial_site' (to see the initial excited site), 'output.gamma' (to see the cutoff frequencies for all trajectories), 'output.lamb' (to see the system-bath coupling strengths for all trajectories) and the 'output.temp' (to see th temperature values for all trajectories).  \n",
            " \n",
            "  It is worth-emphasizing that 'output.data' is a dictionary and to extract the data, you can use 'xyz=list(output.data.values())', where 'xyz[i]' gives you the ith trajectory corresponding to the ith initial_site, gamma, lamb and  temp (all parameters are in cm^-1). For more details please read our article \n",
            " \" Arif Ullah, Luis E. Herrera Rodriguez, Pavlo O. Dral, and Alexei A. Kananenka, QD3SET-1: A Database woth Quantum Dissipative Dynamics Data sets https://doi.org/10.48550/arXiv.2301.12096\" \n",
            " ***************************************************************\n"
          ]
        }
      ]
    },
    {
      "cell_type": "markdown",
      "source": [
        "# **Extract data for the case with initial excitation on site-1** \n",
        "\n",
        "We provide `extr_choice : site-1`, and from the output, we can extract the corresponding data using the following options \n",
        "\n",
        "**`print(output.details)`** for calculation details\n",
        "\n",
        "**`print(output.H)`** for Hamiltonian  H\n",
        "\n",
        "**`print(output.N_trajs)`** to see the number of trajectories\n",
        "\n",
        "**`print(output.initial_site)`** to see the site with initial excitation\n",
        "\n",
        "**`print(output.gamma)`** It will print out all the values of gamma γ (cutoff frequencies of bath) with `print(output.gamma[0])` for the 1st traj and `print(output.gamma[1])` for the 2nd and so on\n",
        "\n",
        "**`print(output.lamb)`** It will print out all the values of lambda λ (system bath coupling strength) with `print(output.lamb[0])` for the 1st traj and `print(output.lamb[1])` for the 2nd and so on\n",
        "\n",
        "**`print(output.temp)`** It will print out all the values of temperature β with `print(output.beta[0])` for the 1st traj and `print(output.beta[1])` for the 2nd and so on\n",
        "\n",
        "**`data = list(output.data.values())`** makes the trajectories accessible. With **`print(data[i])`**, we access the ith trajectory"
      ],
      "metadata": {
        "id": "lq63eyhytNub"
      },
      "id": "lq63eyhytNub"
    },
    {
      "cell_type": "code",
      "source": [
        "param = {'extr_choice': 'site-1',\n",
        "         'Nsites': 8,   # number of sites\n",
        "        'systemType': 'FMO',   # system type\n",
        "         'methodType': 'LTLME',  # method\n",
        "         'FMOtype': 'I',\n",
        "        'dataPath': 'QD3SET/fmo_data'\n",
        "        }\n",
        "data = qddset(**param) #  initializing parameters\n",
        "output = data.extract() # extracting the data\n",
        "traj = list(output.data.values()) # extract trajectories\n",
        "### Output ###\n",
        "print('Total number of trajectories = ', output.N_trajs)\n",
        "print('Calculation details = ', output.details)   \n",
        "print('Hamiltonian =' , output.H) \n",
        "print('Site with initial excitation = ', output.initial_site)           \n",
        "print('Cutoff frequencies = ', output.gamma)      \n",
        "print('System bath coupling strengths = ', output.lamb) \n",
        "print('Temperature =', output.temp) \n",
        "print('1st traj =', traj[0])  # print out the 1st trajectory"
      ],
      "metadata": {
        "colab": {
          "base_uri": "https://localhost:8080/"
        },
        "id": "PrHMybvk1lO_",
        "outputId": "bb47ccb6-dbb6-4a24-f0cf-5b21713ae94f"
      },
      "id": "PrHMybvk1lO_",
      "execution_count": 10,
      "outputs": [
        {
          "output_type": "stream",
          "name": "stdout",
          "text": [
            "*****************************************\n",
            "QDDSET-1 contains trajectories propagated for reduced density matrix of spin-boson model and FMO complex. Two methods were used: Local-thermalizing Lindblad Equation of Motion (LTLME) and Hierarachical Equations of Motion (HEOM). For more details, please read our article \" Arif Ullah, Luis E. Herrera Rodriguez, Pavlo O. Dral, and Alexei A. Kananenka, QDDSET-1: A Quantum Dissipative Dynamics Dataset\" \n",
            " *******************************************\"\n",
            "Running with the extraction choice \" site-1 \"\n",
            "Extracting data for \" FMO \"\n",
            "Extracting data for \" LTLME \"\n",
            "Extracting data from \" QD3SET/fmo_data \" directory\n",
            "Extracting data for  8 sites FMO\n",
            "Extracting data for the  following FMO type \" I \"\n",
            "Total number of trajectories =  10\n",
            "Calculation details =  \n",
            " **************************************************************** \n",
            " Calculations were performed for 8-site FMO complex parametrized by Olbrich et. al. [J. Phys. Chem. B 115, 8609 (2011)]. To see the corresponding Hamiltonian, use the attribute, i.e,. output.H. Dynamics is propagated with the local thermalizing Lindblad master equation (LTLME) approach [J. Phys. Chem. Lett. 10, 7383-7390 (2019)] implemented in the quantum_HEOM package [https://github.com/jwa7/quantum_HEOM] with QuTip [https://qutip.org] in the backend. The basic quantum\\_HEOM package is restricted to 7-site FMO complex. In order to make it compatable for Hamiltonian with any dimension, we have made some local changes. In our calculations, the time-step for propagation was set to 5 fs and dynamics is propagated upto 50 ps.\n",
            "  The data and the corresponding parameters can be extracted as;  You can pass an extraction choice with keyword \"function(extr_choice: choice)\". The choice here is 'all', 'site-1', 'site-6', 'site-8' (in the case of 8-site FMO) or 'cal_details' which extracts data for the corresponding choice. The default choice is the 'cal_details' which provides details about the calculations. \n",
            " \n",
            " From the output of the function, you can access the data as: 'output.data' (for trajectories), 'output.N_trajs' (to see the total number of trajectories), 'output.initial_site' (to see the initial excited site), 'output.gamma' (to see the cutoff frequencies for all trajectories), 'output.lamb' (to see the system-bath coupling strengths for all trajectories) and the 'output.temp' (to see th temperature values for all trajectories).  \n",
            " \n",
            "  It is worth-emphasizing that 'output.data' is a dictionary and to extract the data, you can use 'xyz=list(output.data.values())', where 'xyz[i]' gives you the ith trajectory corresponding to the ith initial_site, gamma, lamb and  temp (all parameters are in cm^-1). For more details please read our article \n",
            " \" Arif Ullah, Luis E. Herrera Rodriguez, Pavlo O. Dral, and Alexei A. Kananenka, QD3SET-1: A Database woth Quantum Dissipative Dynamics Data sets https://doi.org/10.48550/arXiv.2301.12096\" \n",
            " ***************************************************************\n",
            "Hamiltonian = [[ 1.2505e+04 -8.0300e+01  3.5000e+00 -4.0000e+00  4.5000e+00 -1.0200e+01\n",
            "  -4.9000e+00  2.1000e+01]\n",
            " [-8.0300e+01  1.2425e+04  2.3500e+01  6.7000e+00  5.0000e-01  7.5000e+00\n",
            "   1.5000e+00  3.3000e+00]\n",
            " [ 3.5000e+00  2.3500e+01  1.2195e+04 -4.9800e+01 -1.5000e+00 -6.5000e+00\n",
            "   1.2000e+00  7.0000e-01]\n",
            " [-4.0000e+00  6.7000e+00 -4.9800e+01  1.2375e+04  6.3400e+01 -1.3300e+01\n",
            "  -4.2200e+01 -1.2000e+00]\n",
            " [ 4.5000e+00  5.0000e-01 -1.5000e+00  6.3400e+01  1.2600e+04  5.5800e+01\n",
            "   4.7000e+00  2.8000e+00]\n",
            " [-1.0200e+01  7.5000e+00 -6.5000e+00 -1.3300e+01  5.5800e+01  1.2515e+04\n",
            "   3.3000e+01 -7.3000e+00]\n",
            " [-4.9000e+00  1.5000e+00  1.2000e+00 -4.2200e+01  4.7000e+00  3.3000e+01\n",
            "   1.2465e+04 -8.7000e+00]\n",
            " [ 2.1000e+01  3.3000e+00  7.0000e-01 -1.2000e+00  2.8000e+00 -7.3000e+00\n",
            "  -8.7000e+00  1.2700e+04]]\n",
            "Site with initial excitation =  [1 1 1 1 1 1 1 1 1 1]\n",
            "Cutoff frequencies =  [275. 250. 250.  25. 275.  25. 250. 250. 250. 250.]\n",
            "System bath coupling strengths =  [100.  40. 430. 520. 100. 520. 370. 130. 250.  70.]\n",
            "Temperature = [290. 370. 250. 370. 190. 290. 270. 410. 390. 130.]\n",
            "1st traj = [[0.00000000e+00+0.00000000e+00j 1.00000000e+00+0.00000000e+00j\n",
            "  0.00000000e+00+0.00000000e+00j ... 0.00000000e+00+0.00000000e+00j\n",
            "  0.00000000e+00+0.00000000e+00j 0.00000000e+00+0.00000000e+00j]\n",
            " [5.00000000e+00+0.00000000e+00j 8.96205220e-01+3.81439941e-19j\n",
            "  3.41174385e-02-6.69116230e-02j ... 7.14864336e-04+2.80995147e-05j\n",
            "  7.38246186e-04+4.28271638e-05j 3.95317538e-03+2.29760827e-20j]\n",
            " [1.00000000e+01+0.00000000e+00j 7.96803354e-01+1.42083978e-19j\n",
            "  5.62487017e-02-1.17167227e-01j ... 1.00367474e-03+1.31629355e-04j\n",
            "  1.20242452e-03+1.69468764e-04j 8.09871802e-03+2.79568396e-19j]\n",
            " ...\n",
            " [4.99900000e+04+0.00000000e+00j 8.48129904e-02+6.31756315e-17j\n",
            "  3.90377888e-02+3.96788157e-16j ... 1.57001227e-03-1.52847176e-16j\n",
            "  2.26256608e-03-5.66521213e-17j 2.96437241e-02-6.57263711e-18j]\n",
            " [4.99950000e+04+0.00000000e+00j 8.48129904e-02+6.31854039e-17j\n",
            "  3.90377888e-02+3.96792661e-16j ... 1.57001227e-03-1.52846995e-16j\n",
            "  2.26256608e-03-5.66518603e-17j 2.96437241e-02-6.57091389e-18j]\n",
            " [5.00000000e+04+0.00000000e+00j 8.48129904e-02+6.31756309e-17j\n",
            "  3.90377888e-02+3.96788157e-16j ... 1.57001227e-03-1.52847176e-16j\n",
            "  2.26256608e-03-5.66521213e-17j 2.96437241e-02-6.57263662e-18j]]\n"
          ]
        }
      ]
    },
    {
      "cell_type": "markdown",
      "source": [
        "# **Extract data for the case with initial excitation on site-6** \n",
        "\n",
        "We provide `extr_choice : site-6`, and from the output, we can extract the corresponding data using the options we used for site-1 case.  "
      ],
      "metadata": {
        "id": "4LEWvJtT2zkF"
      },
      "id": "4LEWvJtT2zkF"
    },
    {
      "cell_type": "code",
      "source": [
        "param = {'extr_choice': 'site-6',\n",
        "         'Nsites': 8,   # number of sites\n",
        "        'systemType': 'FMO',   # system type\n",
        "         'methodType': 'LTLME',  # method\n",
        "         'FMOtype': 'I',\n",
        "        'dataPath': 'QD3SET/fmo_data'\n",
        "        }\n",
        "data = qddset(**param) #  initializing parameters\n",
        "output = data.extract() # extracting the data\n",
        "traj = list(output.data.values()) # extract trajectories\n",
        "### Output ###\n",
        "print('Total number of trajectories = ', output.N_trajs)\n",
        "print('Calculation details = ', output.details)   \n",
        "print('Hamiltonian =' , output.H)   \n",
        "print('Site with initial excitation = ', output.initial_site)       \n",
        "print('Cutoff frequencies = ', output.gamma)      \n",
        "print('System bath coupling strengths = ', output.lamb) \n",
        "print('Temperature =', output.temp) \n",
        "print('1st traj =', traj[0])  # print out the 1st trajectory"
      ],
      "metadata": {
        "colab": {
          "base_uri": "https://localhost:8080/"
        },
        "id": "ea2yY04z1oLN",
        "outputId": "83097c4d-a88e-48dc-8460-3e719b24e4dc"
      },
      "id": "ea2yY04z1oLN",
      "execution_count": 11,
      "outputs": [
        {
          "output_type": "stream",
          "name": "stdout",
          "text": [
            "*****************************************\n",
            "QDDSET-1 contains trajectories propagated for reduced density matrix of spin-boson model and FMO complex. Two methods were used: Local-thermalizing Lindblad Equation of Motion (LTLME) and Hierarachical Equations of Motion (HEOM). For more details, please read our article \" Arif Ullah, Luis E. Herrera Rodriguez, Pavlo O. Dral, and Alexei A. Kananenka, QDDSET-1: A Quantum Dissipative Dynamics Dataset\" \n",
            " *******************************************\"\n",
            "Running with the extraction choice \" site-6 \"\n",
            "Extracting data for \" FMO \"\n",
            "Extracting data for \" LTLME \"\n",
            "Extracting data from \" QD3SET/fmo_data \" directory\n",
            "Extracting data for  8 sites FMO\n",
            "Extracting data for the  following FMO type \" I \"\n",
            "Total number of trajectories =  10\n",
            "Calculation details =  \n",
            " **************************************************************** \n",
            " Calculations were performed for 8-site FMO complex parametrized by Olbrich et. al. [J. Phys. Chem. B 115, 8609 (2011)]. To see the corresponding Hamiltonian, use the attribute, i.e,. output.H. Dynamics is propagated with the local thermalizing Lindblad master equation (LTLME) approach [J. Phys. Chem. Lett. 10, 7383-7390 (2019)] implemented in the quantum_HEOM package [https://github.com/jwa7/quantum_HEOM] with QuTip [https://qutip.org] in the backend. The basic quantum\\_HEOM package is restricted to 7-site FMO complex. In order to make it compatable for Hamiltonian with any dimension, we have made some local changes. In our calculations, the time-step for propagation was set to 5 fs and dynamics is propagated upto 50 ps.\n",
            "  The data and the corresponding parameters can be extracted as;  You can pass an extraction choice with keyword \"function(extr_choice: choice)\". The choice here is 'all', 'site-1', 'site-6', 'site-8' (in the case of 8-site FMO) or 'cal_details' which extracts data for the corresponding choice. The default choice is the 'cal_details' which provides details about the calculations. \n",
            " \n",
            " From the output of the function, you can access the data as: 'output.data' (for trajectories), 'output.N_trajs' (to see the total number of trajectories), 'output.initial_site' (to see the initial excited site), 'output.gamma' (to see the cutoff frequencies for all trajectories), 'output.lamb' (to see the system-bath coupling strengths for all trajectories) and the 'output.temp' (to see th temperature values for all trajectories).  \n",
            " \n",
            "  It is worth-emphasizing that 'output.data' is a dictionary and to extract the data, you can use 'xyz=list(output.data.values())', where 'xyz[i]' gives you the ith trajectory corresponding to the ith initial_site, gamma, lamb and  temp (all parameters are in cm^-1). For more details please read our article \n",
            " \" Arif Ullah, Luis E. Herrera Rodriguez, Pavlo O. Dral, and Alexei A. Kananenka, QD3SET-1: A Database woth Quantum Dissipative Dynamics Data sets https://doi.org/10.48550/arXiv.2301.12096\" \n",
            " ***************************************************************\n",
            "Hamiltonian = [[ 1.2505e+04 -8.0300e+01  3.5000e+00 -4.0000e+00  4.5000e+00 -1.0200e+01\n",
            "  -4.9000e+00  2.1000e+01]\n",
            " [-8.0300e+01  1.2425e+04  2.3500e+01  6.7000e+00  5.0000e-01  7.5000e+00\n",
            "   1.5000e+00  3.3000e+00]\n",
            " [ 3.5000e+00  2.3500e+01  1.2195e+04 -4.9800e+01 -1.5000e+00 -6.5000e+00\n",
            "   1.2000e+00  7.0000e-01]\n",
            " [-4.0000e+00  6.7000e+00 -4.9800e+01  1.2375e+04  6.3400e+01 -1.3300e+01\n",
            "  -4.2200e+01 -1.2000e+00]\n",
            " [ 4.5000e+00  5.0000e-01 -1.5000e+00  6.3400e+01  1.2600e+04  5.5800e+01\n",
            "   4.7000e+00  2.8000e+00]\n",
            " [-1.0200e+01  7.5000e+00 -6.5000e+00 -1.3300e+01  5.5800e+01  1.2515e+04\n",
            "   3.3000e+01 -7.3000e+00]\n",
            " [-4.9000e+00  1.5000e+00  1.2000e+00 -4.2200e+01  4.7000e+00  3.3000e+01\n",
            "   1.2465e+04 -8.7000e+00]\n",
            " [ 2.1000e+01  3.3000e+00  7.0000e-01 -1.2000e+00  2.8000e+00 -7.3000e+00\n",
            "  -8.7000e+00  1.2700e+04]]\n",
            "Site with initial excitation =  [6 6 6 6 6 6 6 6 6 6]\n",
            "Cutoff frequencies =  [200.  25. 275. 200. 125. 100. 250. 150. 175. 100.]\n",
            "System bath coupling strengths =  [130. 370. 100. 310. 100. 310. 250. 430. 160. 100.]\n",
            "Temperature = [330. 110. 290. 230. 410. 150. 390. 470. 230. 150.]\n",
            "1st traj = [[ 0.00000000e+00+0.00000000e+00j  0.00000000e+00+0.00000000e+00j\n",
            "   0.00000000e+00+0.00000000e+00j ...  0.00000000e+00+0.00000000e+00j\n",
            "   0.00000000e+00+0.00000000e+00j  0.00000000e+00+0.00000000e+00j]\n",
            " [ 5.00000000e+00+0.00000000e+00j  2.13001369e-02+1.43302926e-19j\n",
            "  -3.27111399e-03-1.69272351e-05j ... -2.26528834e-03+5.87268411e-03j\n",
            "   1.68654950e-03-2.38379552e-04j  1.41387118e-03-8.53521357e-21j]\n",
            " [ 1.00000000e+01+0.00000000e+00j  3.76766441e-02+6.68692860e-19j\n",
            "  -4.32381400e-03-4.86704255e-05j ... -2.29104333e-03+9.84182558e-03j\n",
            "   2.64159145e-03-7.05654696e-04j  2.78599318e-03+2.34039432e-20j]\n",
            " ...\n",
            " [ 4.99900000e+04+0.00000000e+00j  9.10006923e-02+1.24525631e-17j\n",
            "   3.64005872e-02+2.29810069e-16j ...  1.61540491e-03-1.61223989e-16j\n",
            "   2.26524659e-03-7.15617268e-17j  3.64569973e-02-4.07923716e-18j]\n",
            " [ 4.99950000e+04+0.00000000e+00j  9.10006923e-02+1.24456127e-17j\n",
            "   3.64005872e-02+2.29813941e-16j ...  1.61540491e-03-1.61168686e-16j\n",
            "   2.26524659e-03-7.16144045e-17j  3.64569973e-02-4.05187187e-18j]\n",
            " [ 5.00000000e+04+0.00000000e+00j  9.10006923e-02+1.24579427e-17j\n",
            "   3.64005872e-02+2.29812211e-16j ...  1.61540491e-03-1.61223894e-16j\n",
            "   2.26524659e-03-7.15615935e-17j  3.64569973e-02-4.07474435e-18j]]\n"
          ]
        }
      ]
    },
    {
      "cell_type": "markdown",
      "source": [
        "# **Extract data for the case with initial excitation on site-8**\n",
        "\n",
        "We provide `extr_choice : site-8`, and from the output, we can extract the corresponding data using the options we used for site-1 case."
      ],
      "metadata": {
        "id": "J20Zz4WJ3B0D"
      },
      "id": "J20Zz4WJ3B0D"
    },
    {
      "cell_type": "code",
      "source": [
        "param = {'extr_choice': 'site-8',\n",
        "         'Nsites': 8,   # number of sites\n",
        "        'systemType': 'FMO',   # system type\n",
        "         'methodType': 'LTLME',  # method\n",
        "         'FMOtype': 'I',\n",
        "        'dataPath': 'QD3SET/fmo_data'\n",
        "        }\n",
        "data = qddset(**param) #  initializing parameters\n",
        "output = data.extract() # extracting the data\n",
        "traj = list(output.data.values()) # extract trajectories\n",
        "### Output ###\n",
        "print('Total number of trajectories = ', output.N_trajs)\n",
        "print('Calculation details = ', output.details)   \n",
        "print('Hamiltonian =' , output.H)    \n",
        "print('Site with initial excitation = ', output.initial_site)      \n",
        "print('Cutoff frequencies = ', output.gamma)      \n",
        "print('System bath coupling strengths = ', output.lamb) \n",
        "print('Temperature =', output.temp) \n",
        "print('1st traj =', traj[0])  # print out the 1st trajectory"
      ],
      "metadata": {
        "id": "bBm1Grlp3GEq",
        "outputId": "8e45c5be-79c0-439c-cfe1-b738bb401b72",
        "colab": {
          "base_uri": "https://localhost:8080/"
        }
      },
      "id": "bBm1Grlp3GEq",
      "execution_count": 12,
      "outputs": [
        {
          "output_type": "stream",
          "name": "stdout",
          "text": [
            "*****************************************\n",
            "QDDSET-1 contains trajectories propagated for reduced density matrix of spin-boson model and FMO complex. Two methods were used: Local-thermalizing Lindblad Equation of Motion (LTLME) and Hierarachical Equations of Motion (HEOM). For more details, please read our article \" Arif Ullah, Luis E. Herrera Rodriguez, Pavlo O. Dral, and Alexei A. Kananenka, QDDSET-1: A Quantum Dissipative Dynamics Dataset\" \n",
            " *******************************************\"\n",
            "Running with the extraction choice \" site-8 \"\n",
            "Extracting data for \" FMO \"\n",
            "Extracting data for \" LTLME \"\n",
            "Extracting data from \" QD3SET/fmo_data \" directory\n",
            "Extracting data for  8 sites FMO\n",
            "Extracting data for the  following FMO type \" I \"\n",
            "Total number of trajectories =  10\n",
            "Calculation details =  \n",
            " **************************************************************** \n",
            " Calculations were performed for 8-site FMO complex parametrized by Olbrich et. al. [J. Phys. Chem. B 115, 8609 (2011)]. To see the corresponding Hamiltonian, use the attribute, i.e,. output.H. Dynamics is propagated with the local thermalizing Lindblad master equation (LTLME) approach [J. Phys. Chem. Lett. 10, 7383-7390 (2019)] implemented in the quantum_HEOM package [https://github.com/jwa7/quantum_HEOM] with QuTip [https://qutip.org] in the backend. The basic quantum\\_HEOM package is restricted to 7-site FMO complex. In order to make it compatable for Hamiltonian with any dimension, we have made some local changes. In our calculations, the time-step for propagation was set to 5 fs and dynamics is propagated upto 50 ps.\n",
            "  The data and the corresponding parameters can be extracted as;  You can pass an extraction choice with keyword \"function(extr_choice: choice)\". The choice here is 'all', 'site-1', 'site-6', 'site-8' (in the case of 8-site FMO) or 'cal_details' which extracts data for the corresponding choice. The default choice is the 'cal_details' which provides details about the calculations. \n",
            " \n",
            " From the output of the function, you can access the data as: 'output.data' (for trajectories), 'output.N_trajs' (to see the total number of trajectories), 'output.initial_site' (to see the initial excited site), 'output.gamma' (to see the cutoff frequencies for all trajectories), 'output.lamb' (to see the system-bath coupling strengths for all trajectories) and the 'output.temp' (to see th temperature values for all trajectories).  \n",
            " \n",
            "  It is worth-emphasizing that 'output.data' is a dictionary and to extract the data, you can use 'xyz=list(output.data.values())', where 'xyz[i]' gives you the ith trajectory corresponding to the ith initial_site, gamma, lamb and  temp (all parameters are in cm^-1). For more details please read our article \n",
            " \" Arif Ullah, Luis E. Herrera Rodriguez, Pavlo O. Dral, and Alexei A. Kananenka, QD3SET-1: A Database woth Quantum Dissipative Dynamics Data sets https://doi.org/10.48550/arXiv.2301.12096\" \n",
            " ***************************************************************\n",
            "Hamiltonian = [[ 1.2505e+04 -8.0300e+01  3.5000e+00 -4.0000e+00  4.5000e+00 -1.0200e+01\n",
            "  -4.9000e+00  2.1000e+01]\n",
            " [-8.0300e+01  1.2425e+04  2.3500e+01  6.7000e+00  5.0000e-01  7.5000e+00\n",
            "   1.5000e+00  3.3000e+00]\n",
            " [ 3.5000e+00  2.3500e+01  1.2195e+04 -4.9800e+01 -1.5000e+00 -6.5000e+00\n",
            "   1.2000e+00  7.0000e-01]\n",
            " [-4.0000e+00  6.7000e+00 -4.9800e+01  1.2375e+04  6.3400e+01 -1.3300e+01\n",
            "  -4.2200e+01 -1.2000e+00]\n",
            " [ 4.5000e+00  5.0000e-01 -1.5000e+00  6.3400e+01  1.2600e+04  5.5800e+01\n",
            "   4.7000e+00  2.8000e+00]\n",
            " [-1.0200e+01  7.5000e+00 -6.5000e+00 -1.3300e+01  5.5800e+01  1.2515e+04\n",
            "   3.3000e+01 -7.3000e+00]\n",
            " [-4.9000e+00  1.5000e+00  1.2000e+00 -4.2200e+01  4.7000e+00  3.3000e+01\n",
            "   1.2465e+04 -8.7000e+00]\n",
            " [ 2.1000e+01  3.3000e+00  7.0000e-01 -1.2000e+00  2.8000e+00 -7.3000e+00\n",
            "  -8.7000e+00  1.2700e+04]]\n",
            "Site with initial excitation =  [8 8 8 8 8 8 8 8 8 8]\n",
            "Cutoff frequencies =  [ 25.  50.  75. 275. 350. 275. 100. 200. 325. 450.]\n",
            "System bath coupling strengths =  [520. 520. 430. 460. 220. 190. 190. 310. 520. 190.]\n",
            "Temperature = [370.  30.  30. 130. 150. 450. 470. 230. 410. 430.]\n",
            "1st traj = [[ 0.00000000e+00+0.00000000e+00j  0.00000000e+00+0.00000000e+00j\n",
            "   0.00000000e+00+0.00000000e+00j ...  0.00000000e+00+0.00000000e+00j\n",
            "   0.00000000e+00+0.00000000e+00j  1.00000000e+00+0.00000000e+00j]\n",
            " [ 5.00000000e+00+0.00000000e+00j  1.29506618e-02+3.60747615e-19j\n",
            "  -4.77088666e-03+2.88051426e-04j ... -1.93691537e-02-3.88041236e-03j\n",
            "  -1.78416246e-02-4.87403135e-03j  9.61162577e-01-4.69854159e-19j]\n",
            " [ 1.00000000e+01+0.00000000e+00j  2.24743349e-02+8.07284262e-19j\n",
            "  -6.97903976e-03+7.27618438e-04j ... -2.96251905e-02-4.54196526e-03j\n",
            "  -2.76537931e-02-5.89736977e-03j  9.28214806e-01-1.11324883e-18j]\n",
            " ...\n",
            " [ 4.99900000e+04+0.00000000e+00j  9.57607136e-02-6.98700136e-19j\n",
            "   3.38232289e-02+1.34222668e-16j ...  1.62180053e-03-1.29942193e-16j\n",
            "   2.22785958e-03-5.90355806e-17j  4.26214642e-02-1.41231311e-18j]\n",
            " [ 4.99950000e+04+0.00000000e+00j  9.57607136e-02-7.03684924e-19j\n",
            "   3.38232289e-02+1.34220902e-16j ...  1.62180053e-03-1.29942277e-16j\n",
            "   2.22785958e-03-5.90356969e-17j  4.26214642e-02-1.41344773e-18j]\n",
            " [ 5.00000000e+04+0.00000000e+00j  9.57607136e-02-6.98700136e-19j\n",
            "   3.38232289e-02+1.34222668e-16j ...  1.62180053e-03-1.29942193e-16j\n",
            "   2.22785958e-03-5.90355806e-17j  4.26214642e-02-1.41231311e-18j]]\n"
          ]
        }
      ]
    },
    {
      "cell_type": "markdown",
      "source": [
        "# **Extract data for all cases with initial excitation**\n",
        "\n",
        "We provide `extr_choice : all`, and from the output, we can extract the corresponding data using the options we used for site-1 case."
      ],
      "metadata": {
        "id": "wummrNhO3e7Y"
      },
      "id": "wummrNhO3e7Y"
    },
    {
      "cell_type": "code",
      "source": [
        "param = {'extr_choice': 'all',\n",
        "         'Nsites': 8,   # number of sites\n",
        "        'systemType': 'FMO',   # system type\n",
        "         'methodType': 'LTLME',  # method\n",
        "         'FMOtype': 'I',\n",
        "        'dataPath': 'QD3SET/fmo_data'\n",
        "        }\n",
        "data = qddset(**param) #  initializing parameters\n",
        "output = data.extract() # extracting the data\n",
        "traj = list(output.data.values()) # extract trajectories\n",
        "### Output ###\n",
        "print('Total number of trajectories = ', output.N_trajs)\n",
        "print('Calculation details = ', output.details)   \n",
        "print('Hamiltonian =' , output.H)\n",
        "print('Site with initial excitation = ', output.initial_site) \n",
        "print('Cutoff frequencies = ', output.gamma)      \n",
        "print('System bath coupling strengths = ', output.lamb) \n",
        "print('Temperature =', output.temp) \n",
        "print('1st traj =', traj[0])  # print out the 1st trajectory"
      ],
      "metadata": {
        "id": "Gldk3ris3bb_",
        "outputId": "14e92212-90e1-4bb8-9a4a-78d5f31dd8d1",
        "colab": {
          "base_uri": "https://localhost:8080/"
        }
      },
      "id": "Gldk3ris3bb_",
      "execution_count": 14,
      "outputs": [
        {
          "output_type": "stream",
          "name": "stdout",
          "text": [
            "*****************************************\n",
            "QDDSET-1 contains trajectories propagated for reduced density matrix of spin-boson model and FMO complex. Two methods were used: Local-thermalizing Lindblad Equation of Motion (LTLME) and Hierarachical Equations of Motion (HEOM). For more details, please read our article \" Arif Ullah, Luis E. Herrera Rodriguez, Pavlo O. Dral, and Alexei A. Kananenka, QDDSET-1: A Quantum Dissipative Dynamics Dataset\" \n",
            " *******************************************\"\n",
            "Running with the extraction choice \" all \"\n",
            "Extracting data for \" FMO \"\n",
            "Extracting data for \" LTLME \"\n",
            "Extracting data from \" QD3SET/fmo_data \" directory\n",
            "Extracting data for  8 sites FMO\n",
            "Extracting data for the  following FMO type \" I \"\n",
            "Total number of trajectories =  30\n",
            "Calculation details =  \n",
            " **************************************************************** \n",
            " Calculations were performed for 8-site FMO complex parametrized by Olbrich et. al. [J. Phys. Chem. B 115, 8609 (2011)]. To see the corresponding Hamiltonian, use the attribute, i.e,. output.H. Dynamics is propagated with the local thermalizing Lindblad master equation (LTLME) approach [J. Phys. Chem. Lett. 10, 7383-7390 (2019)] implemented in the quantum_HEOM package [https://github.com/jwa7/quantum_HEOM] with QuTip [https://qutip.org] in the backend. The basic quantum\\_HEOM package is restricted to 7-site FMO complex. In order to make it compatable for Hamiltonian with any dimension, we have made some local changes. In our calculations, the time-step for propagation was set to 5 fs and dynamics is propagated upto 50 ps.\n",
            "  The data and the corresponding parameters can be extracted as;  You can pass an extraction choice with keyword \"function(extr_choice: choice)\". The choice here is 'all', 'site-1', 'site-6', 'site-8' (in the case of 8-site FMO) or 'cal_details' which extracts data for the corresponding choice. The default choice is the 'cal_details' which provides details about the calculations. \n",
            " \n",
            " From the output of the function, you can access the data as: 'output.data' (for trajectories), 'output.N_trajs' (to see the total number of trajectories), 'output.initial_site' (to see the initial excited site), 'output.gamma' (to see the cutoff frequencies for all trajectories), 'output.lamb' (to see the system-bath coupling strengths for all trajectories) and the 'output.temp' (to see th temperature values for all trajectories).  \n",
            " \n",
            "  It is worth-emphasizing that 'output.data' is a dictionary and to extract the data, you can use 'xyz=list(output.data.values())', where 'xyz[i]' gives you the ith trajectory corresponding to the ith initial_site, gamma, lamb and  temp (all parameters are in cm^-1). For more details please read our article \n",
            " \" Arif Ullah, Luis E. Herrera Rodriguez, Pavlo O. Dral, and Alexei A. Kananenka, QD3SET-1: A Database woth Quantum Dissipative Dynamics Data sets https://doi.org/10.48550/arXiv.2301.12096\" \n",
            " ***************************************************************\n",
            "Hamiltonian = [[ 1.2505e+04 -8.0300e+01  3.5000e+00 -4.0000e+00  4.5000e+00 -1.0200e+01\n",
            "  -4.9000e+00  2.1000e+01]\n",
            " [-8.0300e+01  1.2425e+04  2.3500e+01  6.7000e+00  5.0000e-01  7.5000e+00\n",
            "   1.5000e+00  3.3000e+00]\n",
            " [ 3.5000e+00  2.3500e+01  1.2195e+04 -4.9800e+01 -1.5000e+00 -6.5000e+00\n",
            "   1.2000e+00  7.0000e-01]\n",
            " [-4.0000e+00  6.7000e+00 -4.9800e+01  1.2375e+04  6.3400e+01 -1.3300e+01\n",
            "  -4.2200e+01 -1.2000e+00]\n",
            " [ 4.5000e+00  5.0000e-01 -1.5000e+00  6.3400e+01  1.2600e+04  5.5800e+01\n",
            "   4.7000e+00  2.8000e+00]\n",
            " [-1.0200e+01  7.5000e+00 -6.5000e+00 -1.3300e+01  5.5800e+01  1.2515e+04\n",
            "   3.3000e+01 -7.3000e+00]\n",
            " [-4.9000e+00  1.5000e+00  1.2000e+00 -4.2200e+01  4.7000e+00  3.3000e+01\n",
            "   1.2465e+04 -8.7000e+00]\n",
            " [ 2.1000e+01  3.3000e+00  7.0000e-01 -1.2000e+00  2.8000e+00 -7.3000e+00\n",
            "  -8.7000e+00  1.2700e+04]]\n",
            "Site with initial excitation =  [1 1 6 6 1 6 1 1 6 6 6 1 8 8 8 8 1 6 1 1 8 8 6 1 8 8 8 6 8 6]\n",
            "Cutoff frequencies =  [275. 250. 200.  25. 250. 275.  25. 275. 200. 125. 100.  25.  25.  50.\n",
            "  75. 275. 250. 250. 250. 250. 350. 275. 150. 250. 100. 200. 325. 175.\n",
            " 450. 100.]\n",
            "System bath coupling strengths =  [100.  40. 130. 370. 430. 100. 520. 100. 310. 100. 310. 520. 520. 520.\n",
            " 430. 460. 370. 250. 130. 250. 220. 190. 430.  70. 190. 310. 520. 160.\n",
            " 190. 100.]\n",
            "Temperature = [290. 370. 330. 110. 250. 290. 370. 190. 230. 410. 150. 290. 370.  30.\n",
            "  30. 130. 270. 390. 410. 390. 150. 450. 470. 130. 470. 230. 410. 230.\n",
            " 430. 150.]\n",
            "1st traj = [[0.00000000e+00+0.00000000e+00j 1.00000000e+00+0.00000000e+00j\n",
            "  0.00000000e+00+0.00000000e+00j ... 0.00000000e+00+0.00000000e+00j\n",
            "  0.00000000e+00+0.00000000e+00j 0.00000000e+00+0.00000000e+00j]\n",
            " [5.00000000e+00+0.00000000e+00j 8.96205220e-01+3.81439941e-19j\n",
            "  3.41174385e-02-6.69116230e-02j ... 7.14864336e-04+2.80995147e-05j\n",
            "  7.38246186e-04+4.28271638e-05j 3.95317538e-03+2.29760827e-20j]\n",
            " [1.00000000e+01+0.00000000e+00j 7.96803354e-01+1.42083978e-19j\n",
            "  5.62487017e-02-1.17167227e-01j ... 1.00367474e-03+1.31629355e-04j\n",
            "  1.20242452e-03+1.69468764e-04j 8.09871802e-03+2.79568396e-19j]\n",
            " ...\n",
            " [4.99900000e+04+0.00000000e+00j 8.48129904e-02+6.31756315e-17j\n",
            "  3.90377888e-02+3.96788157e-16j ... 1.57001227e-03-1.52847176e-16j\n",
            "  2.26256608e-03-5.66521213e-17j 2.96437241e-02-6.57263711e-18j]\n",
            " [4.99950000e+04+0.00000000e+00j 8.48129904e-02+6.31854039e-17j\n",
            "  3.90377888e-02+3.96792661e-16j ... 1.57001227e-03-1.52846995e-16j\n",
            "  2.26256608e-03-5.66518603e-17j 2.96437241e-02-6.57091389e-18j]\n",
            " [5.00000000e+04+0.00000000e+00j 8.48129904e-02+6.31756309e-17j\n",
            "  3.90377888e-02+3.96788157e-16j ... 1.57001227e-03-1.52847176e-16j\n",
            "  2.26256608e-03-5.66521213e-17j 2.96437241e-02-6.57263662e-18j]]\n"
          ]
        }
      ]
    }
  ],
  "metadata": {
    "kernelspec": {
      "display_name": "Python 3",
      "language": "python",
      "name": "python3"
    },
    "language_info": {
      "codemirror_mode": {
        "name": "ipython",
        "version": 3
      },
      "file_extension": ".py",
      "mimetype": "text/x-python",
      "name": "python",
      "nbconvert_exporter": "python",
      "pygments_lexer": "ipython3",
      "version": "3.9.15"
    },
    "colab": {
      "provenance": []
    }
  },
  "nbformat": 4,
  "nbformat_minor": 5
}