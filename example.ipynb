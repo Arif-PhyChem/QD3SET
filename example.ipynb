{
  "cells": [
    {
      "cell_type": "markdown",
      "id": "4de581f7",
      "metadata": {
        "id": "4de581f7"
      },
      "source": [
        "[![Open In Colab](https://colab.research.google.com/assets/colab-badge.svg)](\n",
        "https://colab.research.google.com/github/Arif-PhyChem/QD3SET/blob/main/example.ipynb)"
      ]
    },
    {
      "cell_type": "markdown",
      "source": [
        "# Import QD3SET extraction package from GitHub repo"
      ],
      "metadata": {
        "id": "uQw0zd_-HGhj"
      },
      "id": "uQw0zd_-HGhj"
    },
    {
      "cell_type": "code",
      "execution_count": 38,
      "id": "b738d395",
      "metadata": {
        "id": "b738d395",
        "outputId": "afa90e20-9f45-463a-b1cf-c82c008a9227",
        "colab": {
          "base_uri": "https://localhost:8080/"
        }
      },
      "outputs": [
        {
          "output_type": "stream",
          "name": "stdout",
          "text": [
            "fatal: destination path 'QD3SET' already exists and is not an empty directory.\n"
          ]
        }
      ],
      "source": [
        "!git clone https://github.com/Arif-PhyChem/QD3SET.git    "
      ]
    },
    {
      "cell_type": "markdown",
      "source": [
        "**Check the folder**"
      ],
      "metadata": {
        "id": "eRzMIgDxHwBp"
      },
      "id": "eRzMIgDxHwBp"
    },
    {
      "cell_type": "code",
      "source": [
        "ls /content/QD3SET"
      ],
      "metadata": {
        "id": "LEHX7d7uHoT9",
        "outputId": "cadff490-fbb1-4a7b-f2ea-bffbdf04f759",
        "colab": {
          "base_uri": "https://localhost:8080/"
        }
      },
      "id": "LEHX7d7uHoT9",
      "execution_count": 10,
      "outputs": [
        {
          "output_type": "stream",
          "name": "stdout",
          "text": [
            "cal_details.py  example.ipynb  \u001b[0m\u001b[01;34mfmo_data\u001b[0m/        methods.py  \u001b[01;34msb_data\u001b[0m/\n",
            "dataset.py      example.py     hamiltonians.py  README.md\n"
          ]
        }
      ]
    },
    {
      "cell_type": "markdown",
      "source": [
        "## Change working Directory to QD3SET directory"
      ],
      "metadata": {
        "id": "QBIKys--G4j9"
      },
      "id": "QBIKys--G4j9"
    },
    {
      "cell_type": "code",
      "source": [
        "import os\n",
        "import sys\n",
        "\n",
        "QD3SET_DIR = os.getcwd() + '/QD3SET'\n",
        "if QD3SET_DIR not in sys.path:\n",
        "    sys.path.append(QD3SET_DIR)"
      ],
      "metadata": {
        "id": "u2zWqABEGVGr"
      },
      "id": "u2zWqABEGVGr",
      "execution_count": 34,
      "outputs": []
    },
    {
      "cell_type": "code",
      "execution_count": 36,
      "id": "5a1bf78c",
      "metadata": {
        "id": "5a1bf78c"
      },
      "outputs": [],
      "source": [
        "import numpy as np\n",
        "from dataset import qddset"
      ]
    },
    {
      "cell_type": "markdown",
      "id": "33a692cd",
      "metadata": {
        "id": "33a692cd"
      },
      "source": [
        "\n",
        "## **parameter details**\n",
        "\n",
        "\n",
        "```extr_choice```: str     # type string \n",
        "\n",
        "```methodType```: str      # type string\n",
        "\n",
        "```FMOtype```:  str        # type string\n",
        "\n",
        "```dataPath```: str        # type string\n",
        "\n",
        "```Nsites```: int          # type integer\n",
        "\n",
        "\n",
        "### **```extr_choice``` (extraction choice):**\n",
        "We can pass multiple extraction choices. For instance, To extract data with site-1 as initial excitation, \n",
        "pass ```extr_choice = 'site-1'```. For extraction of site-6 data, \n",
        "pass ```extr_choice = 'site-6'``` and similarly for site-8 data pass ```'site-8'```. \n",
        "To extract all data, just pass ```extr_choice = 'all'```. The default choice is ```'cal_details'``` which \n",
        "only shows calculation details. For spin-boson model, ```extr_choices``` are ```'all', 'sym', 'asym', and 'cal_details'```.\n",
        "\n",
        "\n",
        "\n",
        "### **```systemType``` (system type):** \n",
        "\n",
        "Pass ```'SB'``` for spin-boson and ```'FMO'``` for FMO complex\n",
        "\n",
        "\n",
        "\n",
        "### **```methodType``` (method type):**\n",
        "\n",
        "Pass ```'HEOM'``` or ```'LTLME'``` for the extraction of the corresponding data\n",
        "\n",
        "\n",
        "\n",
        "\n",
        "### **```FMOtype``` (Type of FMO):**\n",
        "\n",
        "In our dataset, we have generated LTLME data with two Hamiltonians for both\n",
        "7-site and 8-site FMO. Here we represent them as I and II (check the paper).\n",
        "\n",
        "\n",
        "\n",
        "### **```dataPath``` (path to data directory):**\n",
        "\n",
        "pass the data path to the concerend data set\n",
        "\n",
        "\n",
        "\n",
        "### **```Nsites``` (number of sites in FMO case):**\n",
        "\n",
        "it can be 7, 8, or 24 (for trimer)"
      ]
    },
    {
      "cell_type": "markdown",
      "id": "636cdfe4",
      "metadata": {
        "id": "636cdfe4"
      },
      "source": [
        "## Extracting ```sym data``` from spin-boson dataset \n",
        "\n",
        "For the sake of demonstration, we are providing 40 trajectories in ```sb_data``` folder, 20 of them are for symmetric case and 20 for asymetric case.  "
      ]
    },
    {
      "cell_type": "code",
      "execution_count": 37,
      "id": "3e5c41ab",
      "metadata": {
        "id": "3e5c41ab",
        "outputId": "82d26db3-1e6e-4b23-bd82-fc9d9c0ed305",
        "colab": {
          "base_uri": "https://localhost:8080/",
          "height": 447
        }
      },
      "outputs": [
        {
          "output_type": "stream",
          "name": "stdout",
          "text": [
            "*****************************************\n",
            "QDDSET-1 contains trajectories propagated for reduced density matrix of spin-boson model and FMO complex. Two methods were used: Local-thermalizing Lindblad Equation of Motion (LTLME) and Hierarachical Equations of Motion (HEOM). For more details, please read our article \" Arif Ullah, Luis E. Herrera Rodriguez, Pavlo O. Dral, and Alexei A. Kananenka, QDDSET-1: A Quantum Dissipative Dynamics Dataset\" \n",
            " *******************************************\"\n",
            "Running with the extraction choice \" asym \"\n",
            "Extracting data for \" SB \"\n"
          ]
        },
        {
          "output_type": "error",
          "ename": "NameError",
          "evalue": "ignored",
          "traceback": [
            "\u001b[0;31m---------------------------------------------------------------------------\u001b[0m",
            "\u001b[0;31mNameError\u001b[0m                                 Traceback (most recent call last)",
            "\u001b[0;32m<ipython-input-37-902911d00c63>\u001b[0m in \u001b[0;36m<module>\u001b[0;34m\u001b[0m\n\u001b[1;32m      3\u001b[0m         \u001b[0;34m'dataPath'\u001b[0m\u001b[0;34m:\u001b[0m \u001b[0;34m'sb_data'\u001b[0m\u001b[0;34m\u001b[0m\u001b[0;34m\u001b[0m\u001b[0m\n\u001b[1;32m      4\u001b[0m         }\n\u001b[0;32m----> 5\u001b[0;31m \u001b[0mqddset\u001b[0m \u001b[0;34m=\u001b[0m \u001b[0mqddset\u001b[0m\u001b[0;34m(\u001b[0m\u001b[0;34m**\u001b[0m\u001b[0mparam\u001b[0m\u001b[0;34m)\u001b[0m \u001b[0;31m#  initializing parameters\u001b[0m\u001b[0;34m\u001b[0m\u001b[0;34m\u001b[0m\u001b[0m\n\u001b[0m\u001b[1;32m      6\u001b[0m \u001b[0moutput\u001b[0m \u001b[0;34m=\u001b[0m \u001b[0mqddset\u001b[0m\u001b[0;34m.\u001b[0m\u001b[0mextract\u001b[0m\u001b[0;34m(\u001b[0m\u001b[0;34m)\u001b[0m \u001b[0;31m# extracting the data\u001b[0m\u001b[0;34m\u001b[0m\u001b[0;34m\u001b[0m\u001b[0m\n",
            "\u001b[0;32m/content/QD3SET/dataset.py\u001b[0m in \u001b[0;36m__init__\u001b[0;34m(self, **param)\u001b[0m\n\u001b[1;32m     38\u001b[0m         \u001b[0;32melse\u001b[0m\u001b[0;34m:\u001b[0m\u001b[0;34m\u001b[0m\u001b[0;34m\u001b[0m\u001b[0m\n\u001b[1;32m     39\u001b[0m             \u001b[0mself\u001b[0m\u001b[0;34m.\u001b[0m\u001b[0m_system\u001b[0m \u001b[0;34m=\u001b[0m \u001b[0;34m'HEOM'\u001b[0m\u001b[0;34m\u001b[0m\u001b[0;34m\u001b[0m\u001b[0m\n\u001b[0;32m---> 40\u001b[0;31m             \u001b[0mPrint\u001b[0m\u001b[0;34m(\u001b[0m\u001b[0;34m'As method type is not provided, default system choice \"methodType: HEOM\" is used'\u001b[0m\u001b[0;34m)\u001b[0m\u001b[0;34m\u001b[0m\u001b[0;34m\u001b[0m\u001b[0m\n\u001b[0m\u001b[1;32m     41\u001b[0m         \u001b[0;32mif\u001b[0m \u001b[0mparam\u001b[0m\u001b[0;34m.\u001b[0m\u001b[0mget\u001b[0m\u001b[0;34m(\u001b[0m\u001b[0;34m'dataPath'\u001b[0m\u001b[0;34m)\u001b[0m \u001b[0;32mis\u001b[0m \u001b[0;32mnot\u001b[0m \u001b[0;32mNone\u001b[0m\u001b[0;34m:\u001b[0m\u001b[0;34m\u001b[0m\u001b[0;34m\u001b[0m\u001b[0m\n\u001b[1;32m     42\u001b[0m             \u001b[0mself\u001b[0m\u001b[0;34m.\u001b[0m\u001b[0m_dataPath\u001b[0m \u001b[0;34m=\u001b[0m \u001b[0mparam\u001b[0m\u001b[0;34m.\u001b[0m\u001b[0mget\u001b[0m\u001b[0;34m(\u001b[0m\u001b[0;34m'dataPath'\u001b[0m\u001b[0;34m)\u001b[0m\u001b[0;34m\u001b[0m\u001b[0;34m\u001b[0m\u001b[0m\n",
            "\u001b[0;31mNameError\u001b[0m: name 'Print' is not defined"
          ]
        }
      ],
      "source": [
        "param = {'extr_choice': 'asym',\n",
        "        'systemType': 'SB',\n",
        "        'dataPath': 'sb_data'\n",
        "        }\n",
        "qddset = qddset(**param) #  initializing parameters\n",
        "output = qddset.extract() # extracting the data\n"
      ]
    }
  ],
  "metadata": {
    "kernelspec": {
      "display_name": "Python 3",
      "language": "python",
      "name": "python3"
    },
    "language_info": {
      "codemirror_mode": {
        "name": "ipython",
        "version": 3
      },
      "file_extension": ".py",
      "mimetype": "text/x-python",
      "name": "python",
      "nbconvert_exporter": "python",
      "pygments_lexer": "ipython3",
      "version": "3.9.15"
    },
    "colab": {
      "provenance": []
    }
  },
  "nbformat": 4,
  "nbformat_minor": 5
}