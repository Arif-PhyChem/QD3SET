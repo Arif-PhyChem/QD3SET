{
 "cells": [
  {
   "attachments": {},
   "cell_type": "markdown",
   "id": "4de581f7",
   "metadata": {},
   "source": [
    "[![Open In Colab](https://colab.research.google.com/assets/colab-badge.svg)](\n",
    "https://colab.research.google.com/github/Arif-PhyChem/QD3SET/edit/main/example.ipynb)"
   ]
  },
  {
   "cell_type": "code",
   "execution_count": null,
   "id": "b738d395",
   "metadata": {},
   "outputs": [],
   "source": [
    "!get clone https://github.com/Arif-PhyChem/QD3SET.git    "
   ]
  },
  {
   "cell_type": "markdown",
   "id": "47c1c095",
   "metadata": {},
   "source": [
    "import os\n",
    "import sys\n",
    "DIR = os.path.normpath(os.getcwd() + os.sep + os.pardir) + '/MLQD'\n",
    "path_to_file = str(DIR) + '/' + 'evolution.py'\n",
    "if os.path.isfile(path_to_file):\n",
    "    MLQD_DIR = DIR\n",
    "else:\n",
    "    MLQD_DIR = os.getcwd() + '/MLQD'\n",
    "if MLQD_DIR not in sys.path:\n",
    "    sys.path.append(MLQD_DIR)"
   ]
  },
  {
   "cell_type": "code",
   "execution_count": null,
   "id": "5a1bf78c",
   "metadata": {},
   "outputs": [],
   "source": [
    "import numpy as np\n",
    "From qd3set import qddset"
   ]
  },
  {
   "cell_type": "markdown",
   "id": "33a692cd",
   "metadata": {},
   "source": [
    "\n",
    "## parameter details\n",
    "\n",
    "\n",
    "```extr_choice```: str     # type string \n",
    "\n",
    "```methodType```: str      # type string\n",
    "\n",
    "```FMOtype```:  str        # type string\n",
    "\n",
    "```dataPath```: str        # type string\n",
    "\n",
    "```Nsites```: int          # type integer\n",
    "\n",
    "\n",
    "### ```extr_choice``` (extraction choice):\n",
    "We can pass multiple extraction choices. For instance, To extract data with site-1 as initial excitation, \n",
    "pass ```extr_choice = 'site-1'```. For extraction of site-6 data, \n",
    "pass ```extr_choice = 'site-6'``` and similarly for site-8 data pass ```'site-8'```. \n",
    "To extract all data, just pass ```extr_choice = 'all'```. The default choice is ```'cal_details'``` which \n",
    "only shows calculation details. For spin-boson model, ```extr_choices``` are ```'all', 'sym', 'asym', and 'cal_details'```.\n",
    "\n",
    "### ```systemType``` (system type): \n",
    "\n",
    "Pass ```'SB'``` for spin-boson and ```'FMO'``` for FMO complex\n",
    "\n",
    "### ```methodType``` (method type):\n",
    "\n",
    "Pass ```'HEOM'``` or ```'LTLME'``` for the extraction of the corresponding data\n",
    "\n",
    "\n",
    "### ```FMOtype``` (Type of FMO):\n",
    "\n",
    "In our dataset, we have generated LTLME data with two Hamiltonians for both\n",
    "7-site and 8-site FMO. Here we represent them as I and II (check the paper).\n",
    "\n",
    "### ```dataPath``` (path to data directory):\n",
    "\n",
    "pass the data path to the concerend data set\n",
    "\n",
    "### ```Nsites``` (number of sites in FMO case):\n",
    "\n",
    "it can be 7, 8, or 24 (for trimer)"
   ]
  },
  {
   "cell_type": "markdown",
   "id": "636cdfe4",
   "metadata": {},
   "source": [
    "## Extracting ```sym data``` from spin-boson dataset \n",
    "\n",
    "For the sake of demonstration, we are providing 40 trajectories in ```sb_data``` folder, 20 of them are for symmetric case and 20 for asymetric case.  "
   ]
  },
  {
   "cell_type": "code",
   "execution_count": null,
   "id": "3e5c41ab",
   "metadata": {},
   "outputs": [],
   "source": [
    "param = {'extr_choice': 'asym',\n",
    "        'systemType': 'SB',\n",
    "        'methodType': 'HEOM', \n",
    "        'FMOtype' : 'II', # matters only in LTLME case for 7-sites and 8-sites FMO\n",
    "        'dataPath': 'heom_sb/data',\n",
    "        'Nsites': 8,  # only wanted for FMO \n",
    "        }\n",
    "qddset = qddset(**param) #  initializing parameters\n",
    "output = qddset.extract() # extracting the data\n"
   ]
  }
 ],
 "metadata": {
  "kernelspec": {
   "display_name": "Python 3",
   "language": "python",
   "name": "python3"
  },
  "language_info": {
   "codemirror_mode": {
    "name": "ipython",
    "version": 3
   },
   "file_extension": ".py",
   "mimetype": "text/x-python",
   "name": "python",
   "nbconvert_exporter": "python",
   "pygments_lexer": "ipython3",
   "version": "3.9.15"
  }
 },
 "nbformat": 4,
 "nbformat_minor": 5
}
